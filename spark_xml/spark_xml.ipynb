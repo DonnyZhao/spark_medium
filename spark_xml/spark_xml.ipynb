{
 "cells": [
  {
   "cell_type": "code",
   "execution_count": 23,
   "metadata": {},
   "outputs": [
    {
     "name": "stdout",
     "output_type": "stream",
     "text": [
      "sample_corrupted.xml  sample_order.xml\r\n"
     ]
    }
   ],
   "source": [
    "ls /home/somanath/spark_csv/spark_xml/xml_data"
   ]
  },
  {
   "cell_type": "code",
   "execution_count": 1,
   "metadata": {
    "collapsed": true
   },
   "outputs": [
    {
     "data": {
      "text/html": [
       "\n",
       "            <div>\n",
       "                <p><b>SparkSession - hive</b></p>\n",
       "                \n",
       "        <div>\n",
       "            <p><b>SparkContext</b></p>\n",
       "\n",
       "            <p><a href=\"http://192.168.1.3:4040\">Spark UI</a></p>\n",
       "\n",
       "            <dl>\n",
       "              <dt>Version</dt>\n",
       "                <dd><code>v2.4.4</code></dd>\n",
       "              <dt>Master</dt>\n",
       "                <dd><code>local[*]</code></dd>\n",
       "              <dt>AppName</dt>\n",
       "                <dd><code>PySparkShell</code></dd>\n",
       "            </dl>\n",
       "        </div>\n",
       "        \n",
       "            </div>\n",
       "        "
      ],
      "text/plain": [
       "<pyspark.sql.session.SparkSession at 0x7f9eb44e6f10>"
      ]
     },
     "execution_count": 1,
     "metadata": {},
     "output_type": "execute_result"
    }
   ],
   "source": [
    "spark"
   ]
  },
  {
   "cell_type": "code",
   "execution_count": null,
   "metadata": {
    "collapsed": true
   },
   "outputs": [],
   "source": [
    "cat /home/somanath/spark_csv/spark_xml/xml_data/sample_order.xml"
   ]
  },
  {
   "cell_type": "code",
   "execution_count": 17,
   "metadata": {},
   "outputs": [],
   "source": [
    "df=spark.read.format(\"xml\").option(\"rowTag\",\"Root\").load(\"file:///home/somanath/spark_csv/spark_xml/xml_data/\")"
   ]
  },
  {
   "cell_type": "code",
   "execution_count": 18,
   "metadata": {
    "scrolled": true
   },
   "outputs": [
    {
     "name": "stdout",
     "output_type": "stream",
     "text": [
      "root\n",
      " |-- Customers: struct (nullable = true)\n",
      " |    |-- Customer: array (nullable = true)\n",
      " |    |    |-- element: struct (containsNull = true)\n",
      " |    |    |    |-- CompanyName: string (nullable = true)\n",
      " |    |    |    |-- ContactName: string (nullable = true)\n",
      " |    |    |    |-- ContactTitle: string (nullable = true)\n",
      " |    |    |    |-- Fax: string (nullable = true)\n",
      " |    |    |    |-- FullAddress: struct (nullable = true)\n",
      " |    |    |    |    |-- Address: string (nullable = true)\n",
      " |    |    |    |    |-- City: string (nullable = true)\n",
      " |    |    |    |    |-- Country: string (nullable = true)\n",
      " |    |    |    |    |-- PostalCode: long (nullable = true)\n",
      " |    |    |    |    |-- Region: string (nullable = true)\n",
      " |    |    |    |-- Phone: string (nullable = true)\n",
      " |    |    |    |-- _CustomerID: string (nullable = true)\n",
      " |-- Orders: struct (nullable = true)\n",
      " |    |-- Order: array (nullable = true)\n",
      " |    |    |-- element: struct (containsNull = true)\n",
      " |    |    |    |-- CustomerID: string (nullable = true)\n",
      " |    |    |    |-- EmployeeID: long (nullable = true)\n",
      " |    |    |    |-- OrderDate: string (nullable = true)\n",
      " |    |    |    |-- RequiredDate: string (nullable = true)\n",
      " |    |    |    |-- ShipInfo: struct (nullable = true)\n",
      " |    |    |    |    |-- Freight: double (nullable = true)\n",
      " |    |    |    |    |-- ShipAddress: string (nullable = true)\n",
      " |    |    |    |    |-- ShipCity: string (nullable = true)\n",
      " |    |    |    |    |-- ShipCountry: string (nullable = true)\n",
      " |    |    |    |    |-- ShipName: string (nullable = true)\n",
      " |    |    |    |    |-- ShipPostalCode: long (nullable = true)\n",
      " |    |    |    |    |-- ShipRegion: string (nullable = true)\n",
      " |    |    |    |    |-- ShipVia: long (nullable = true)\n",
      " |    |    |    |    |-- _ShippedDate: string (nullable = true)\n",
      "\n"
     ]
    }
   ],
   "source": [
    "df.printSchema()"
   ]
  },
  {
   "cell_type": "code",
   "execution_count": 19,
   "metadata": {},
   "outputs": [
    {
     "data": {
      "text/plain": [
       "3"
      ]
     },
     "execution_count": 19,
     "metadata": {},
     "output_type": "execute_result"
    }
   ],
   "source": [
    "df.count()"
   ]
  },
  {
   "cell_type": "code",
   "execution_count": 24,
   "metadata": {},
   "outputs": [
    {
     "name": "stdout",
     "output_type": "stream",
     "text": [
      "+--------------------+\n",
      "|           Customers|\n",
      "+--------------------+\n",
      "|[[[Great Lakes Fo...|\n",
      "|                null|\n",
      "+--------------------+\n",
      "\n"
     ]
    }
   ],
   "source": [
    "df.select(\"Customers\").show()"
   ]
  },
  {
   "cell_type": "code",
   "execution_count": 25,
   "metadata": {
    "collapsed": true
   },
   "outputs": [],
   "source": [
    "spark.sparkContext.addFile(\"/home/somanath/spark_csv/spark_xml/sample_order.xsd\")"
   ]
  },
  {
   "cell_type": "code",
   "execution_count": 32,
   "metadata": {},
   "outputs": [],
   "source": [
    "df_schema=spark.read.format(\"xml\").option(\"rowTag\",\"Root\").\\\n",
    "option(\"rowValidationXSDPath\",\"sample_order.xsd\").load(\"file:///home/somanath/spark_csv/spark_xml/xml_data/\")"
   ]
  },
  {
   "cell_type": "code",
   "execution_count": 33,
   "metadata": {},
   "outputs": [
    {
     "data": {
      "text/plain": [
       "DataFrame[Customers: struct<Customer:array<struct<CompanyName:string,ContactName:string,ContactTitle:string,Fax:string,FullAddress:struct<Address:string,City:string,Country:string,PostalCode:bigint,Region:string>,Phone:string,_CustomerID:string>>>, Orders: struct<Order:array<struct<CustomerID:string,EmployeeID:bigint,OrderDate:string,RequiredDate:string,ShipInfo:struct<Freight:double,ShipAddress:string,ShipCity:string,ShipCountry:string,ShipName:string,ShipPostalCode:bigint,ShipRegion:string,ShipVia:bigint,_ShippedDate:string>>>>, _corrupt_record: string]"
      ]
     },
     "execution_count": 33,
     "metadata": {},
     "output_type": "execute_result"
    }
   ],
   "source": [
    "df_schema"
   ]
  },
  {
   "cell_type": "code",
   "execution_count": 34,
   "metadata": {},
   "outputs": [
    {
     "data": {
      "text/plain": [
       "DataFrame[Customers: struct<Customer:array<struct<CompanyName:string,ContactName:string,ContactTitle:string,Fax:string,FullAddress:struct<Address:string,City:string,Country:string,PostalCode:bigint,Region:string>,Phone:string,_CustomerID:string>>>, Orders: struct<Order:array<struct<CustomerID:string,EmployeeID:bigint,OrderDate:string,RequiredDate:string,ShipInfo:struct<Freight:double,ShipAddress:string,ShipCity:string,ShipCountry:string,ShipName:string,ShipPostalCode:bigint,ShipRegion:string,ShipVia:bigint,_ShippedDate:string>>>>]"
      ]
     },
     "execution_count": 34,
     "metadata": {},
     "output_type": "execute_result"
    }
   ],
   "source": [
    "df"
   ]
  },
  {
   "cell_type": "code",
   "execution_count": null,
   "metadata": {
    "collapsed": true
   },
   "outputs": [],
   "source": []
  },
  {
   "cell_type": "code",
   "execution_count": null,
   "metadata": {
    "collapsed": true
   },
   "outputs": [],
   "source": []
  }
 ],
 "metadata": {
  "kernelspec": {
   "display_name": "Python 3",
   "language": "python",
   "name": "python3"
  },
  "language_info": {
   "codemirror_mode": {
    "name": "ipython",
    "version": 2
   },
   "file_extension": ".py",
   "mimetype": "text/x-python",
   "name": "python",
   "nbconvert_exporter": "python",
   "pygments_lexer": "ipython2",
   "version": "2.7.16"
  }
 },
 "nbformat": 4,
 "nbformat_minor": 2
}
