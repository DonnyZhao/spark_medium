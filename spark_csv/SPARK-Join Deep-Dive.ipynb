{
 "cells": [
  {
   "cell_type": "code",
   "execution_count": 2,
   "metadata": {
    "collapsed": true
   },
   "outputs": [],
   "source": [
    "#import spark session and functions for performing Join\n",
    "from pyspark.sql import SparkSession,functions as f"
   ]
  },
  {
   "cell_type": "code",
   "execution_count": 4,
   "metadata": {},
   "outputs": [],
   "source": [
    "spark=SparkSession.builder.getOrCreate()"
   ]
  },
  {
   "cell_type": "code",
   "execution_count": 20,
   "metadata": {},
   "outputs": [],
   "source": [
    "df_left=spark.createDataFrame([(1, 'IT', 20), (2, 'civil', 30), (3, 'MECH', 40),\n",
    "                               (4,None,50)],['id','dept','Strength'])"
   ]
  },
  {
   "cell_type": "code",
   "execution_count": 21,
   "metadata": {},
   "outputs": [
    {
     "name": "stdout",
     "output_type": "stream",
     "text": [
      "+---+-----+--------+\n",
      "| id| dept|Strength|\n",
      "+---+-----+--------+\n",
      "|  1|   IT|      20|\n",
      "|  2|civil|      30|\n",
      "|  3| MECH|      40|\n",
      "|  4| null|      50|\n",
      "+---+-----+--------+\n",
      "\n"
     ]
    }
   ],
   "source": [
    "df_left.show()"
   ]
  },
  {
   "cell_type": "code",
   "execution_count": 26,
   "metadata": {},
   "outputs": [],
   "source": [
    "df_right=spark.createDataFrame([(1,'IT',1),(2,'CIVIL',30),(5,'eee',1)],['dept_id','dept','student_id'])"
   ]
  },
  {
   "cell_type": "code",
   "execution_count": 27,
   "metadata": {},
   "outputs": [
    {
     "name": "stdout",
     "output_type": "stream",
     "text": [
      "+-------+-----+----------+\n",
      "|dept_id| dept|student_id|\n",
      "+-------+-----+----------+\n",
      "|      1|   IT|         1|\n",
      "|      2|CIVIL|        30|\n",
      "|      5|  eee|         1|\n",
      "+-------+-----+----------+\n",
      "\n"
     ]
    }
   ],
   "source": [
    "df_right.show()"
   ]
  },
  {
   "cell_type": "code",
   "execution_count": 28,
   "metadata": {
    "collapsed": true
   },
   "outputs": [],
   "source": [
    "df_inner_on=df_left.join(df_right,on='dept')"
   ]
  },
  {
   "cell_type": "code",
   "execution_count": 30,
   "metadata": {},
   "outputs": [
    {
     "name": "stdout",
     "output_type": "stream",
     "text": [
      "+----+---+--------+-------+----------+\n",
      "|dept| id|Strength|dept_id|student_id|\n",
      "+----+---+--------+-------+----------+\n",
      "|  IT|  1|      20|      1|         1|\n",
      "+----+---+--------+-------+----------+\n",
      "\n"
     ]
    }
   ],
   "source": [
    "df_inner_on.show()"
   ]
  },
  {
   "cell_type": "code",
   "execution_count": 39,
   "metadata": {},
   "outputs": [],
   "source": [
    "df_inner_left_on=df_left.join(df_right,on=[df_left.id==df_right.dept_id])"
   ]
  },
  {
   "cell_type": "code",
   "execution_count": 40,
   "metadata": {},
   "outputs": [
    {
     "name": "stdout",
     "output_type": "stream",
     "text": [
      "+---+-----+--------+-------+-----+----------+\n",
      "| id| dept|Strength|dept_id| dept|student_id|\n",
      "+---+-----+--------+-------+-----+----------+\n",
      "|  1|   IT|      20|      1|   IT|         1|\n",
      "|  2|civil|      30|      2|CIVIL|        30|\n",
      "+---+-----+--------+-------+-----+----------+\n",
      "\n"
     ]
    }
   ],
   "source": [
    "df_inner_left_on.show()"
   ]
  },
  {
   "cell_type": "code",
   "execution_count": 50,
   "metadata": {
    "collapsed": true
   },
   "outputs": [],
   "source": [
    "df_upper_case_join=df_left.join(df_right,on=[f.upper(df_left.dept)==df_right.dept])"
   ]
  },
  {
   "cell_type": "code",
   "execution_count": 51,
   "metadata": {},
   "outputs": [
    {
     "name": "stdout",
     "output_type": "stream",
     "text": [
      "+---+-----+--------+-------+-----+----------+\n",
      "| id| dept|Strength|dept_id| dept|student_id|\n",
      "+---+-----+--------+-------+-----+----------+\n",
      "|  2|civil|      30|      2|CIVIL|        30|\n",
      "|  1|   IT|      20|      1|   IT|         1|\n",
      "+---+-----+--------+-------+-----+----------+\n",
      "\n"
     ]
    }
   ],
   "source": [
    "df_upper_case_join.show()"
   ]
  },
  {
   "cell_type": "code",
   "execution_count": 52,
   "metadata": {},
   "outputs": [],
   "source": [
    "df_left_join=df_left.join(df_right,how=\"left_outer\",on=[df_left.id==df_right.dept_id])"
   ]
  },
  {
   "cell_type": "code",
   "execution_count": 53,
   "metadata": {},
   "outputs": [
    {
     "name": "stdout",
     "output_type": "stream",
     "text": [
      "+---+-----+--------+-------+-----+----------+\n",
      "| id| dept|Strength|dept_id| dept|student_id|\n",
      "+---+-----+--------+-------+-----+----------+\n",
      "|  1|   IT|      20|      1|   IT|         1|\n",
      "|  3| MECH|      40|   null| null|      null|\n",
      "|  2|civil|      30|      2|CIVIL|        30|\n",
      "|  4| null|      50|   null| null|      null|\n",
      "+---+-----+--------+-------+-----+----------+\n",
      "\n"
     ]
    }
   ],
   "source": [
    "df_left_join.show()"
   ]
  },
  {
   "cell_type": "code",
   "execution_count": 54,
   "metadata": {
    "collapsed": true
   },
   "outputs": [],
   "source": [
    "df_right_join=df_left.join(df_right,how=\"right_outer\",on=[df_left.id==df_right.dept_id])"
   ]
  },
  {
   "cell_type": "code",
   "execution_count": 55,
   "metadata": {},
   "outputs": [
    {
     "name": "stdout",
     "output_type": "stream",
     "text": [
      "+----+-----+--------+-------+-----+----------+\n",
      "|  id| dept|Strength|dept_id| dept|student_id|\n",
      "+----+-----+--------+-------+-----+----------+\n",
      "|null| null|    null|      5|  eee|         1|\n",
      "|   1|   IT|      20|      1|   IT|         1|\n",
      "|   2|civil|      30|      2|CIVIL|        30|\n",
      "+----+-----+--------+-------+-----+----------+\n",
      "\n"
     ]
    }
   ],
   "source": [
    "df_right_join.show()"
   ]
  },
  {
   "cell_type": "code",
   "execution_count": 56,
   "metadata": {
    "collapsed": true
   },
   "outputs": [],
   "source": [
    "df_full_join=df_left.join(df_right,how=\"full_outer\",on=[df_left.id==df_right.dept_id])"
   ]
  },
  {
   "cell_type": "code",
   "execution_count": 57,
   "metadata": {},
   "outputs": [
    {
     "name": "stdout",
     "output_type": "stream",
     "text": [
      "+----+-----+--------+-------+-----+----------+\n",
      "|  id| dept|Strength|dept_id| dept|student_id|\n",
      "+----+-----+--------+-------+-----+----------+\n",
      "|null| null|    null|      5|  eee|         1|\n",
      "|   1|   IT|      20|      1|   IT|         1|\n",
      "|   3| MECH|      40|   null| null|      null|\n",
      "|   2|civil|      30|      2|CIVIL|        30|\n",
      "|   4| null|      50|   null| null|      null|\n",
      "+----+-----+--------+-------+-----+----------+\n",
      "\n"
     ]
    }
   ],
   "source": [
    "df_full_join.show()"
   ]
  },
  {
   "cell_type": "code",
   "execution_count": 58,
   "metadata": {
    "collapsed": true
   },
   "outputs": [],
   "source": [
    "df_left_semi_join=df_left.join(df_right,how=\"left_semi\",on=[df_left.id==df_right.dept_id])"
   ]
  },
  {
   "cell_type": "code",
   "execution_count": 59,
   "metadata": {},
   "outputs": [
    {
     "name": "stdout",
     "output_type": "stream",
     "text": [
      "+---+-----+--------+\n",
      "| id| dept|Strength|\n",
      "+---+-----+--------+\n",
      "|  1|   IT|      20|\n",
      "|  2|civil|      30|\n",
      "+---+-----+--------+\n",
      "\n"
     ]
    }
   ],
   "source": [
    "df_left_semi_join.show()"
   ]
  },
  {
   "cell_type": "code",
   "execution_count": 60,
   "metadata": {
    "collapsed": true
   },
   "outputs": [],
   "source": [
    "df_left_anti_join=df_left.join(df_right,how=\"left_anti\",on=[df_left.id==df_right.dept_id])"
   ]
  },
  {
   "cell_type": "code",
   "execution_count": 61,
   "metadata": {},
   "outputs": [
    {
     "name": "stdout",
     "output_type": "stream",
     "text": [
      "+---+----+--------+\n",
      "| id|dept|Strength|\n",
      "+---+----+--------+\n",
      "|  3|MECH|      40|\n",
      "|  4|null|      50|\n",
      "+---+----+--------+\n",
      "\n"
     ]
    }
   ],
   "source": [
    "df_left_anti_join.show()"
   ]
  },
  {
   "cell_type": "code",
   "execution_count": 62,
   "metadata": {
    "collapsed": true
   },
   "outputs": [],
   "source": [
    "df_cross_join=df_left.join(df_right,)"
   ]
  },
  {
   "cell_type": "code",
   "execution_count": 63,
   "metadata": {
    "collapsed": true
   },
   "outputs": [
    {
     "ename": "AnalysisException",
     "evalue": "u'Detected implicit cartesian product for INNER join between logical plans\\nLogicalRDD [id#48L, dept#49, Strength#50L], false\\nand\\nLogicalRDD [dept_id#64L, dept#65, student_id#66L], false\\nJoin condition is missing or trivial.\\nEither: use the CROSS JOIN syntax to allow cartesian products between these\\nrelations, or: enable implicit cartesian products by setting the configuration\\nvariable spark.sql.crossJoin.enabled=true;'",
     "output_type": "error",
     "traceback": [
      "\u001b[0;31m---------------------------------------------------------------------------\u001b[0m",
      "\u001b[0;31mAnalysisException\u001b[0m                         Traceback (most recent call last)",
      "\u001b[0;32m<ipython-input-63-e9a990e43be4>\u001b[0m in \u001b[0;36m<module>\u001b[0;34m()\u001b[0m\n\u001b[0;32m----> 1\u001b[0;31m \u001b[0mdf_cross_join\u001b[0m\u001b[0;34m.\u001b[0m\u001b[0mshow\u001b[0m\u001b[0;34m(\u001b[0m\u001b[0;34m)\u001b[0m\u001b[0;34m\u001b[0m\u001b[0m\n\u001b[0m",
      "\u001b[0;32m/home/somanath/spark/spark-2.4.4-bin-hadoop2.7/python/pyspark/sql/dataframe.pyc\u001b[0m in \u001b[0;36mshow\u001b[0;34m(self, n, truncate, vertical)\u001b[0m\n\u001b[1;32m    378\u001b[0m         \"\"\"\n\u001b[1;32m    379\u001b[0m         \u001b[0;32mif\u001b[0m \u001b[0misinstance\u001b[0m\u001b[0;34m(\u001b[0m\u001b[0mtruncate\u001b[0m\u001b[0;34m,\u001b[0m \u001b[0mbool\u001b[0m\u001b[0;34m)\u001b[0m \u001b[0;32mand\u001b[0m \u001b[0mtruncate\u001b[0m\u001b[0;34m:\u001b[0m\u001b[0;34m\u001b[0m\u001b[0m\n\u001b[0;32m--> 380\u001b[0;31m             \u001b[0;32mprint\u001b[0m\u001b[0;34m(\u001b[0m\u001b[0mself\u001b[0m\u001b[0;34m.\u001b[0m\u001b[0m_jdf\u001b[0m\u001b[0;34m.\u001b[0m\u001b[0mshowString\u001b[0m\u001b[0;34m(\u001b[0m\u001b[0mn\u001b[0m\u001b[0;34m,\u001b[0m \u001b[0;36m20\u001b[0m\u001b[0;34m,\u001b[0m \u001b[0mvertical\u001b[0m\u001b[0;34m)\u001b[0m\u001b[0;34m)\u001b[0m\u001b[0;34m\u001b[0m\u001b[0m\n\u001b[0m\u001b[1;32m    381\u001b[0m         \u001b[0;32melse\u001b[0m\u001b[0;34m:\u001b[0m\u001b[0;34m\u001b[0m\u001b[0m\n\u001b[1;32m    382\u001b[0m             \u001b[0;32mprint\u001b[0m\u001b[0;34m(\u001b[0m\u001b[0mself\u001b[0m\u001b[0;34m.\u001b[0m\u001b[0m_jdf\u001b[0m\u001b[0;34m.\u001b[0m\u001b[0mshowString\u001b[0m\u001b[0;34m(\u001b[0m\u001b[0mn\u001b[0m\u001b[0;34m,\u001b[0m \u001b[0mint\u001b[0m\u001b[0;34m(\u001b[0m\u001b[0mtruncate\u001b[0m\u001b[0;34m)\u001b[0m\u001b[0;34m,\u001b[0m \u001b[0mvertical\u001b[0m\u001b[0;34m)\u001b[0m\u001b[0;34m)\u001b[0m\u001b[0;34m\u001b[0m\u001b[0m\n",
      "\u001b[0;32m/home/somanath/spark/spark-2.4.4-bin-hadoop2.7/python/lib/py4j-0.10.7-src.zip/py4j/java_gateway.py\u001b[0m in \u001b[0;36m__call__\u001b[0;34m(self, *args)\u001b[0m\n\u001b[1;32m   1255\u001b[0m         \u001b[0manswer\u001b[0m \u001b[0;34m=\u001b[0m \u001b[0mself\u001b[0m\u001b[0;34m.\u001b[0m\u001b[0mgateway_client\u001b[0m\u001b[0;34m.\u001b[0m\u001b[0msend_command\u001b[0m\u001b[0;34m(\u001b[0m\u001b[0mcommand\u001b[0m\u001b[0;34m)\u001b[0m\u001b[0;34m\u001b[0m\u001b[0m\n\u001b[1;32m   1256\u001b[0m         return_value = get_return_value(\n\u001b[0;32m-> 1257\u001b[0;31m             answer, self.gateway_client, self.target_id, self.name)\n\u001b[0m\u001b[1;32m   1258\u001b[0m \u001b[0;34m\u001b[0m\u001b[0m\n\u001b[1;32m   1259\u001b[0m         \u001b[0;32mfor\u001b[0m \u001b[0mtemp_arg\u001b[0m \u001b[0;32min\u001b[0m \u001b[0mtemp_args\u001b[0m\u001b[0;34m:\u001b[0m\u001b[0;34m\u001b[0m\u001b[0m\n",
      "\u001b[0;32m/home/somanath/spark/spark-2.4.4-bin-hadoop2.7/python/pyspark/sql/utils.pyc\u001b[0m in \u001b[0;36mdeco\u001b[0;34m(*a, **kw)\u001b[0m\n\u001b[1;32m     67\u001b[0m                                              e.java_exception.getStackTrace()))\n\u001b[1;32m     68\u001b[0m             \u001b[0;32mif\u001b[0m \u001b[0ms\u001b[0m\u001b[0;34m.\u001b[0m\u001b[0mstartswith\u001b[0m\u001b[0;34m(\u001b[0m\u001b[0;34m'org.apache.spark.sql.AnalysisException: '\u001b[0m\u001b[0;34m)\u001b[0m\u001b[0;34m:\u001b[0m\u001b[0;34m\u001b[0m\u001b[0m\n\u001b[0;32m---> 69\u001b[0;31m                 \u001b[0;32mraise\u001b[0m \u001b[0mAnalysisException\u001b[0m\u001b[0;34m(\u001b[0m\u001b[0ms\u001b[0m\u001b[0;34m.\u001b[0m\u001b[0msplit\u001b[0m\u001b[0;34m(\u001b[0m\u001b[0;34m': '\u001b[0m\u001b[0;34m,\u001b[0m \u001b[0;36m1\u001b[0m\u001b[0;34m)\u001b[0m\u001b[0;34m[\u001b[0m\u001b[0;36m1\u001b[0m\u001b[0;34m]\u001b[0m\u001b[0;34m,\u001b[0m \u001b[0mstackTrace\u001b[0m\u001b[0;34m)\u001b[0m\u001b[0;34m\u001b[0m\u001b[0m\n\u001b[0m\u001b[1;32m     70\u001b[0m             \u001b[0;32mif\u001b[0m \u001b[0ms\u001b[0m\u001b[0;34m.\u001b[0m\u001b[0mstartswith\u001b[0m\u001b[0;34m(\u001b[0m\u001b[0;34m'org.apache.spark.sql.catalyst.analysis'\u001b[0m\u001b[0;34m)\u001b[0m\u001b[0;34m:\u001b[0m\u001b[0;34m\u001b[0m\u001b[0m\n\u001b[1;32m     71\u001b[0m                 \u001b[0;32mraise\u001b[0m \u001b[0mAnalysisException\u001b[0m\u001b[0;34m(\u001b[0m\u001b[0ms\u001b[0m\u001b[0;34m.\u001b[0m\u001b[0msplit\u001b[0m\u001b[0;34m(\u001b[0m\u001b[0;34m': '\u001b[0m\u001b[0;34m,\u001b[0m \u001b[0;36m1\u001b[0m\u001b[0;34m)\u001b[0m\u001b[0;34m[\u001b[0m\u001b[0;36m1\u001b[0m\u001b[0;34m]\u001b[0m\u001b[0;34m,\u001b[0m \u001b[0mstackTrace\u001b[0m\u001b[0;34m)\u001b[0m\u001b[0;34m\u001b[0m\u001b[0m\n",
      "\u001b[0;31mAnalysisException\u001b[0m: u'Detected implicit cartesian product for INNER join between logical plans\\nLogicalRDD [id#48L, dept#49, Strength#50L], false\\nand\\nLogicalRDD [dept_id#64L, dept#65, student_id#66L], false\\nJoin condition is missing or trivial.\\nEither: use the CROSS JOIN syntax to allow cartesian products between these\\nrelations, or: enable implicit cartesian products by setting the configuration\\nvariable spark.sql.crossJoin.enabled=true;'"
     ]
    }
   ],
   "source": [
    "\n",
    "df_cross_join.show()"
   ]
  },
  {
   "cell_type": "code",
   "execution_count": 64,
   "metadata": {},
   "outputs": [
    {
     "data": {
      "text/plain": [
       "DataFrame[key: string, value: string]"
      ]
     },
     "execution_count": 64,
     "metadata": {},
     "output_type": "execute_result"
    }
   ],
   "source": [
    "spark.sql(\"set spark.sql.crossJoin.enabled=true\")"
   ]
  },
  {
   "cell_type": "code",
   "execution_count": 65,
   "metadata": {
    "collapsed": true
   },
   "outputs": [],
   "source": [
    "df_cross_join=df_left.join(df_right,)"
   ]
  },
  {
   "cell_type": "code",
   "execution_count": 66,
   "metadata": {},
   "outputs": [
    {
     "name": "stdout",
     "output_type": "stream",
     "text": [
      "+---+-----+--------+-------+-----+----------+\n",
      "| id| dept|Strength|dept_id| dept|student_id|\n",
      "+---+-----+--------+-------+-----+----------+\n",
      "|  1|   IT|      20|      1|   IT|         1|\n",
      "|  1|   IT|      20|      2|CIVIL|        30|\n",
      "|  1|   IT|      20|      5|  eee|         1|\n",
      "|  2|civil|      30|      1|   IT|         1|\n",
      "|  2|civil|      30|      2|CIVIL|        30|\n",
      "|  2|civil|      30|      5|  eee|         1|\n",
      "|  3| MECH|      40|      1|   IT|         1|\n",
      "|  3| MECH|      40|      2|CIVIL|        30|\n",
      "|  3| MECH|      40|      5|  eee|         1|\n",
      "|  4| null|      50|      1|   IT|         1|\n",
      "|  4| null|      50|      2|CIVIL|        30|\n",
      "|  4| null|      50|      5|  eee|         1|\n",
      "+---+-----+--------+-------+-----+----------+\n",
      "\n"
     ]
    }
   ],
   "source": [
    "df_cross_join.show()"
   ]
  },
  {
   "cell_type": "code",
   "execution_count": 85,
   "metadata": {},
   "outputs": [],
   "source": [
    "df_multi_or_join=df_left.join(df_right,how=\"inner\",\n",
    "                           on=[(df_left.id==df_right.dept_id) | (f.upper(df_left.dept)==df_right.dept)])"
   ]
  },
  {
   "cell_type": "code",
   "execution_count": 81,
   "metadata": {},
   "outputs": [
    {
     "name": "stdout",
     "output_type": "stream",
     "text": [
      "+---+-----+--------+-------+-----+----------+\n",
      "| id| dept|Strength|dept_id| dept|student_id|\n",
      "+---+-----+--------+-------+-----+----------+\n",
      "|  1|   IT|      20|      1|   IT|         1|\n",
      "|  2|civil|      30|      2|CIVIL|        30|\n",
      "+---+-----+--------+-------+-----+----------+\n",
      "\n"
     ]
    }
   ],
   "source": [
    "df_multi_or_join.show()"
   ]
  },
  {
   "cell_type": "code",
   "execution_count": 82,
   "metadata": {
    "collapsed": true
   },
   "outputs": [],
   "source": [
    "df_multi_and_join=df_left.join(df_right,how=\"inner\",\n",
    "                           on=[(df_left.id==df_right.dept_id) & (f.upper(df_left.dept)==df_right.dept)])"
   ]
  },
  {
   "cell_type": "code",
   "execution_count": 83,
   "metadata": {},
   "outputs": [
    {
     "name": "stdout",
     "output_type": "stream",
     "text": [
      "+---+-----+--------+-------+-----+----------+\n",
      "| id| dept|Strength|dept_id| dept|student_id|\n",
      "+---+-----+--------+-------+-----+----------+\n",
      "|  1|   IT|      20|      1|   IT|         1|\n",
      "|  2|civil|      30|      2|CIVIL|        30|\n",
      "+---+-----+--------+-------+-----+----------+\n",
      "\n"
     ]
    }
   ],
   "source": [
    "df_multi_and_join.show()"
   ]
  },
  {
   "cell_type": "code",
   "execution_count": 86,
   "metadata": {
    "collapsed": true
   },
   "outputs": [],
   "source": [
    "df_left_join=df_left.join(df_right,how=\"left_outer\",on=[df_left.id==df_right.dept_id])"
   ]
  },
  {
   "cell_type": "code",
   "execution_count": 100,
   "metadata": {},
   "outputs": [],
   "source": [
    "df_right_cols=[\"df_right_\"+col if col  in df_left.columns \n",
    "               else col\n",
    "for col in df_right.columns \n",
    "]"
   ]
  },
  {
   "cell_type": "code",
   "execution_count": 101,
   "metadata": {},
   "outputs": [
    {
     "data": {
      "text/plain": [
       "['dept_id', 'df_right_dept', 'student_id']"
      ]
     },
     "execution_count": 101,
     "metadata": {},
     "output_type": "execute_result"
    }
   ],
   "source": [
    "df_right_cols"
   ]
  },
  {
   "cell_type": "code",
   "execution_count": 107,
   "metadata": {},
   "outputs": [
    {
     "name": "stdout",
     "output_type": "stream",
     "text": [
      "+-------+-------------+----------+\n",
      "|dept_id|df_right_dept|student_id|\n",
      "+-------+-------------+----------+\n",
      "|      1|           IT|         1|\n",
      "|      2|        CIVIL|        30|\n",
      "|      5|          eee|         1|\n",
      "+-------+-------------+----------+\n",
      "\n"
     ]
    }
   ],
   "source": [
    "df_right=df_right.toDF(*df_right_cols)\n",
    "df_right.show()"
   ]
  },
  {
   "cell_type": "code",
   "execution_count": 103,
   "metadata": {
    "collapsed": true
   },
   "outputs": [],
   "source": [
    "df_left_join=df_left.join(df_right,how=\"left_outer\",on=[df_left.id==df_right.dept_id])"
   ]
  },
  {
   "cell_type": "code",
   "execution_count": 106,
   "metadata": {},
   "outputs": [
    {
     "name": "stdout",
     "output_type": "stream",
     "text": [
      "+-------------+-----+\n",
      "|df_right_dept| dept|\n",
      "+-------------+-----+\n",
      "|           IT|   IT|\n",
      "|         null| MECH|\n",
      "|        CIVIL|civil|\n",
      "|         null| null|\n",
      "+-------------+-----+\n",
      "\n"
     ]
    }
   ],
   "source": [
    "df_left_join.select(\"df_right_dept\",\"dept\").show()"
   ]
  },
  {
   "cell_type": "code",
   "execution_count": null,
   "metadata": {
    "collapsed": true
   },
   "outputs": [],
   "source": []
  }
 ],
 "metadata": {
  "kernelspec": {
   "display_name": "Python 3",
   "language": "python",
   "name": "python3"
  },
  "language_info": {
   "codemirror_mode": {
    "name": "ipython",
    "version": 2
   },
   "file_extension": ".py",
   "mimetype": "text/x-python",
   "name": "python",
   "nbconvert_exporter": "python",
   "pygments_lexer": "ipython2",
   "version": "2.7.16"
  }
 },
 "nbformat": 4,
 "nbformat_minor": 2
}
