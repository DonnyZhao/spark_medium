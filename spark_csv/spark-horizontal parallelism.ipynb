{
 "cells": [
  {
   "cell_type": "code",
   "execution_count": 8,
   "metadata": {},
   "outputs": [],
   "source": [
    "df=spark.read.csv('/home/somanath/spark_csv/titanic.csv',header=True)"
   ]
  },
  {
   "cell_type": "code",
   "execution_count": 12,
   "metadata": {},
   "outputs": [
    {
     "name": "stdout",
     "output_type": "stream",
     "text": [
      "+--------+------+--------------------+------+---+-----------------------+-----------------------+-------+\n",
      "|Survived|Pclass|                Name|   Sex|Age|Siblings/Spouses Aboard|Parents/Children Aboard|   Fare|\n",
      "+--------+------+--------------------+------+---+-----------------------+-----------------------+-------+\n",
      "|       0|     3|Mr. Owen Harris B...|  male| 22|                      1|                      0|   7.25|\n",
      "|       1|     1|Mrs. John Bradley...|female| 38|                      1|                      0|71.2833|\n",
      "|       1|     3|Miss. Laina Heikk...|female| 26|                      0|                      0|  7.925|\n",
      "+--------+------+--------------------+------+---+-----------------------+-----------------------+-------+\n",
      "only showing top 3 rows\n",
      "\n"
     ]
    }
   ],
   "source": [
    "df.show(3)"
   ]
  },
  {
   "cell_type": "code",
   "execution_count": 13,
   "metadata": {},
   "outputs": [],
   "source": [
    "opt=[]\n",
    "tot=df.count()"
   ]
  },
  {
   "cell_type": "code",
   "execution_count": 14,
   "metadata": {},
   "outputs": [
    {
     "data": {
      "text/plain": [
       "887"
      ]
     },
     "execution_count": 14,
     "metadata": {},
     "output_type": "execute_result"
    }
   ],
   "source": [
    "tot"
   ]
  },
  {
   "cell_type": "code",
   "execution_count": 31,
   "metadata": {},
   "outputs": [],
   "source": [
    "import datetime as dt"
   ]
  },
  {
   "cell_type": "code",
   "execution_count": 32,
   "metadata": {},
   "outputs": [],
   "source": [
    "\n",
    "def dups_count(col,dataframe=df):\n",
    "    print(col,dt.datetime.now())\n",
    "    opt.append((col,tot-dataframe.drop_duplicates([col]).count()))\n",
    "\n"
   ]
  },
  {
   "cell_type": "code",
   "execution_count": 33,
   "metadata": {},
   "outputs": [
    {
     "name": "stdout",
     "output_type": "stream",
     "text": [
      "('Survived', datetime.datetime(2020, 1, 11, 9, 33, 14, 388410))\n",
      "('Pclass', datetime.datetime(2020, 1, 11, 9, 33, 15, 9287))\n",
      "('Name', datetime.datetime(2020, 1, 11, 9, 33, 15, 712001))\n",
      "('Sex', datetime.datetime(2020, 1, 11, 9, 33, 16, 461611))\n",
      "('Age', datetime.datetime(2020, 1, 11, 9, 33, 17, 242935))\n",
      "('Siblings/Spouses Aboard', datetime.datetime(2020, 1, 11, 9, 33, 17, 880714))\n",
      "('Parents/Children Aboard', datetime.datetime(2020, 1, 11, 9, 33, 18, 315136))\n",
      "('Fare', datetime.datetime(2020, 1, 11, 9, 33, 18, 789574))\n",
      "CPU times: user 21.9 ms, sys: 8.58 ms, total: 30.4 ms\n",
      "Wall time: 4.87 s\n"
     ]
    }
   ],
   "source": [
    "%%time\n",
    "for col in df.columns:\n",
    "    dups_count(col)\n",
    "    "
   ]
  },
  {
   "cell_type": "code",
   "execution_count": 34,
   "metadata": {
    "collapsed": true
   },
   "outputs": [],
   "source": [
    "from multiprocessing.pool import ThreadPool"
   ]
  },
  {
   "cell_type": "code",
   "execution_count": 35,
   "metadata": {
    "collapsed": true
   },
   "outputs": [],
   "source": [
    "pool=ThreadPool(2)"
   ]
  },
  {
   "cell_type": "code",
   "execution_count": 36,
   "metadata": {},
   "outputs": [
    {
     "name": "stdout",
     "output_type": "stream",
     "text": [
      "('Survived', datetime.datetime(2020, 1, 11, 9, 41, 40, 47341))\n",
      "('Pclass', datetime.datetime(2020, 1, 11, 9, 41, 40, 255725))\n",
      "('Name', datetime.datetime(2020, 1, 11, 9, 41, 41, 172160))\n",
      "('Sex', datetime.datetime(2020, 1, 11, 9, 41, 41, 802864))\n",
      "('Age', datetime.datetime(2020, 1, 11, 9, 41, 42, 234887))\n",
      "('Siblings/Spouses Aboard', datetime.datetime(2020, 1, 11, 9, 41, 42, 728769))\n",
      "('Parents/Children Aboard', datetime.datetime(2020, 1, 11, 9, 41, 43, 275796))\n",
      "('Fare', datetime.datetime(2020, 1, 11, 9, 41, 43, 806009))\n",
      "CPU times: user 37.5 ms, sys: 11.5 ms, total: 49 ms\n",
      "Wall time: 4.49 s\n"
     ]
    }
   ],
   "source": [
    "%%time\n",
    "opt2=pool.map(dups_count,df.columns)"
   ]
  },
  {
   "cell_type": "code",
   "execution_count": 37,
   "metadata": {
    "collapsed": true
   },
   "outputs": [],
   "source": [
    "%%time\n",
    "opt2=pool.map(dups_count,df.columns)"
   ]
  },
  {
   "cell_type": "code",
   "execution_count": 38,
   "metadata": {
    "collapsed": true
   },
   "outputs": [
    {
     "data": {
      "text/plain": [
       "[('Survived', 885),\n",
       " ('Pclass', 884),\n",
       " ('Name', 0),\n",
       " ('Sex', 885),\n",
       " ('Age', 798),\n",
       " ('Siblings/Spouses Aboard', 880),\n",
       " ('Parents/Children Aboard', 880),\n",
       " ('Fare', 639),\n",
       " ('Survived', 885),\n",
       " ('Pclass', 884),\n",
       " ('Name', 0),\n",
       " ('Sex', 885),\n",
       " ('Age', 798),\n",
       " ('Siblings/Spouses Aboard', 880),\n",
       " ('Parents/Children Aboard', 880),\n",
       " ('Fare', 639),\n",
       " ('Pclass', 884),\n",
       " ('Survived', 885),\n",
       " ('Name', 0),\n",
       " ('Sex', 885),\n",
       " ('Age', 798),\n",
       " ('Siblings/Spouses Aboard', 880),\n",
       " ('Parents/Children Aboard', 880),\n",
       " ('Fare', 639)]"
      ]
     },
     "execution_count": 38,
     "metadata": {},
     "output_type": "execute_result"
    }
   ],
   "source": [
    "opt"
   ]
  },
  {
   "cell_type": "code",
   "execution_count": 39,
   "metadata": {
    "collapsed": true
   },
   "outputs": [],
   "source": [
    "import multiprocessing as ms"
   ]
  },
  {
   "cell_type": "code",
   "execution_count": 40,
   "metadata": {
    "collapsed": true
   },
   "outputs": [],
   "source": [
    "pool=ThreadPool(ms.cpu_count())"
   ]
  },
  {
   "cell_type": "code",
   "execution_count": 46,
   "metadata": {},
   "outputs": [
    {
     "name": "stdout",
     "output_type": "stream",
     "text": [
      "('Survived', datetime.datetime(2020, 1, 11, 9, 54, 54, 167544))\n",
      "('Pclass', datetime.datetime(2020, 1, 11, 9, 54, 54, 168354))\n",
      "('Name', datetime.datetime(2020, 1, 11, 9, 54, 54, 170541))\n",
      "('Sex', datetime.datetime(2020, 1, 11, 9, 54, 54, 171318))\n",
      "('Age', datetime.datetime(2020, 1, 11, 9, 54, 54, 896990))\n",
      "('Siblings/Spouses Aboard', datetime.datetime(2020, 1, 11, 9, 54, 55, 284897))\n",
      "('Parents/Children Aboard', datetime.datetime(2020, 1, 11, 9, 54, 55, 736226))\n",
      "('Fare', datetime.datetime(2020, 1, 11, 9, 54, 56, 48580))\n",
      "CPU times: user 23.8 ms, sys: 8.11 ms, total: 32 ms\n",
      "Wall time: 3.35 s\n"
     ]
    }
   ],
   "source": [
    "%%time\n",
    "opt2=pool.map(dups_count,df.columns)"
   ]
  },
  {
   "cell_type": "code",
   "execution_count": 45,
   "metadata": {},
   "outputs": [
    {
     "data": {
      "text/plain": [
       "4"
      ]
     },
     "execution_count": 45,
     "metadata": {},
     "output_type": "execute_result"
    }
   ],
   "source": [
    "ms.cpu_count()"
   ]
  },
  {
   "cell_type": "code",
   "execution_count": 47,
   "metadata": {
    "collapsed": true
   },
   "outputs": [],
   "source": [
    "pool=ThreadPool(len(df.columns))"
   ]
  },
  {
   "cell_type": "code",
   "execution_count": 48,
   "metadata": {},
   "outputs": [
    {
     "name": "stdout",
     "output_type": "stream",
     "text": [
      "('Survived', datetime.datetime(2020, 1, 11, 9, 57, 18, 382307))('Pclass', datetime.datetime(2020, 1, 11, 9, 57, 18, 382987))('Name', datetime.datetime(2020, 1, 11, 9, 57, 18, 383492))('Sex', datetime.datetime(2020, 1, 11, 9, 57, 18, 383910))('Age', datetime.datetime(2020, 1, 11, 9, 57, 18, 388244))('Siblings/Spouses Aboard', datetime.datetime(2020, 1, 11, 9, 57, 18, 388905))('Parents/Children Aboard', datetime.datetime(2020, 1, 11, 9, 57, 18, 389340))('Fare', datetime.datetime(2020, 1, 11, 9, 57, 18, 412037))\n",
      "\n",
      "\n",
      "\n",
      "\n",
      "\n",
      "\n",
      "\n",
      "CPU times: user 29.1 ms, sys: 6.2 ms, total: 35.3 ms\n",
      "Wall time: 2.85 s\n"
     ]
    }
   ],
   "source": [
    "%%time\n",
    "opt2=pool.map(dups_count,df.columns)"
   ]
  },
  {
   "cell_type": "code",
   "execution_count": null,
   "metadata": {
    "collapsed": true
   },
   "outputs": [],
   "source": []
  }
 ],
 "metadata": {
  "kernelspec": {
   "display_name": "Python 3",
   "language": "python",
   "name": "python3"
  },
  "language_info": {
   "codemirror_mode": {
    "name": "ipython",
    "version": 2
   },
   "file_extension": ".py",
   "mimetype": "text/x-python",
   "name": "python",
   "nbconvert_exporter": "python",
   "pygments_lexer": "ipython2",
   "version": "2.7.16"
  }
 },
 "nbformat": 4,
 "nbformat_minor": 2
}
