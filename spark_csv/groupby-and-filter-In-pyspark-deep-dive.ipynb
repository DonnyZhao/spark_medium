{
 "cells": [
  {
   "cell_type": "code",
   "execution_count": 1,
   "metadata": {
    "collapsed": true
   },
   "outputs": [],
   "source": [
    "from pyspark.sql import *"
   ]
  },
  {
   "cell_type": "code",
   "execution_count": 3,
   "metadata": {},
   "outputs": [],
   "source": [
    "spark=SparkSession.builder.getOrCreate()"
   ]
  },
  {
   "cell_type": "code",
   "execution_count": 4,
   "metadata": {
    "collapsed": true
   },
   "outputs": [],
   "source": [
    "df=spark.read.csv(\"titanic.csv\",header=True)"
   ]
  },
  {
   "cell_type": "code",
   "execution_count": 5,
   "metadata": {},
   "outputs": [
    {
     "name": "stdout",
     "output_type": "stream",
     "text": [
      "+--------+------+--------------------+------+---+-----------------------+-----------------------+-------+\n",
      "|Survived|Pclass|                Name|   Sex|Age|Siblings/Spouses Aboard|Parents/Children Aboard|   Fare|\n",
      "+--------+------+--------------------+------+---+-----------------------+-----------------------+-------+\n",
      "|       0|     3|Mr. Owen Harris B...|  male| 22|                      1|                      0|   7.25|\n",
      "|       1|     1|Mrs. John Bradley...|female| 38|                      1|                      0|71.2833|\n",
      "|       1|     3|Miss. Laina Heikk...|female| 26|                      0|                      0|  7.925|\n",
      "+--------+------+--------------------+------+---+-----------------------+-----------------------+-------+\n",
      "only showing top 3 rows\n",
      "\n"
     ]
    }
   ],
   "source": [
    "df.show(3)"
   ]
  },
  {
   "cell_type": "code",
   "execution_count": 8,
   "metadata": {},
   "outputs": [
    {
     "name": "stdout",
     "output_type": "stream",
     "text": [
      "+--------+-----+\n",
      "|Survived|count|\n",
      "+--------+-----+\n",
      "|       0|  545|\n",
      "|       1|  342|\n",
      "+--------+-----+\n",
      "\n"
     ]
    }
   ],
   "source": [
    "df.groupBy(\"Survived\").count().show()"
   ]
  },
  {
   "cell_type": "code",
   "execution_count": null,
   "metadata": {
    "collapsed": true
   },
   "outputs": [],
   "source": [
    "import pyspark.sql.functions as f"
   ]
  },
  {
   "cell_type": "code",
   "execution_count": 35,
   "metadata": {},
   "outputs": [
    {
     "name": "stdout",
     "output_type": "stream",
     "text": [
      "+--------+-----+\n",
      "|Survived|count|\n",
      "+--------+-----+\n",
      "|       0|  545|\n",
      "|       1|  342|\n",
      "+--------+-----+\n",
      "\n"
     ]
    }
   ],
   "source": [
    "df.groupBy(f.col(\"Survived\")).count().show()"
   ]
  },
  {
   "cell_type": "code",
   "execution_count": 30,
   "metadata": {
    "scrolled": true
   },
   "outputs": [],
   "source": [
    "schema=\"Survived int,Pclass int,Name String,Sex String,\\\n",
    "Age int,`Siblings/Spouses Aboard` int,`Parents/Children Aboard`  int ,Fare double\""
   ]
  },
  {
   "cell_type": "code",
   "execution_count": 31,
   "metadata": {},
   "outputs": [],
   "source": [
    "df_schema=spark.read.csv('titanic.csv',header=True,schema=schema)"
   ]
  },
  {
   "cell_type": "code",
   "execution_count": 32,
   "metadata": {},
   "outputs": [
    {
     "data": {
      "text/plain": [
       "[('Survived', 'int'),\n",
       " ('Pclass', 'int'),\n",
       " ('Name', 'string'),\n",
       " ('Sex', 'string'),\n",
       " ('Age', 'int'),\n",
       " ('Siblings/Spouses Aboard', 'int'),\n",
       " ('Parents/Children Aboard', 'int'),\n",
       " ('Fare', 'double')]"
      ]
     },
     "execution_count": 32,
     "metadata": {},
     "output_type": "execute_result"
    }
   ],
   "source": [
    "df_schema.dtypes"
   ]
  },
  {
   "cell_type": "code",
   "execution_count": 33,
   "metadata": {},
   "outputs": [
    {
     "name": "stdout",
     "output_type": "stream",
     "text": [
      "+--------+------+--------------------+------+---+-----------------------+-----------------------+-------+\n",
      "|Survived|Pclass|                Name|   Sex|Age|Siblings/Spouses Aboard|Parents/Children Aboard|   Fare|\n",
      "+--------+------+--------------------+------+---+-----------------------+-----------------------+-------+\n",
      "|       0|     3|Mr. Owen Harris B...|  male| 22|                      1|                      0|   7.25|\n",
      "|       1|     1|Mrs. John Bradley...|female| 38|                      1|                      0|71.2833|\n",
      "|       1|     3|Miss. Laina Heikk...|female| 26|                      0|                      0|  7.925|\n",
      "+--------+------+--------------------+------+---+-----------------------+-----------------------+-------+\n",
      "only showing top 3 rows\n",
      "\n"
     ]
    }
   ],
   "source": [
    "df_schema.show(3)"
   ]
  },
  {
   "cell_type": "code",
   "execution_count": 34,
   "metadata": {},
   "outputs": [
    {
     "name": "stdout",
     "output_type": "stream",
     "text": [
      "+--------+--------+\n",
      "|Survived|max(Age)|\n",
      "+--------+--------+\n",
      "|    null|    null|\n",
      "|       1|      80|\n",
      "|       0|      74|\n",
      "+--------+--------+\n",
      "\n"
     ]
    }
   ],
   "source": [
    "df_schema.groupBy(\"Survived\").max(\"Age\").show()"
   ]
  },
  {
   "cell_type": "code",
   "execution_count": 39,
   "metadata": {},
   "outputs": [
    {
     "name": "stdout",
     "output_type": "stream",
     "text": [
      "+--------+------+--------+\n",
      "|Survived|   Sex|min(Age)|\n",
      "+--------+------+--------+\n",
      "|       0|female|       2|\n",
      "|    null|  null|    null|\n",
      "|       1|  male|       1|\n",
      "|       1|female|       1|\n",
      "|       0|  male|       1|\n",
      "+--------+------+--------+\n",
      "\n"
     ]
    }
   ],
   "source": [
    "df_schema.groupBy([\"Survived\",\"Sex\"]).min(\"Age\").show()"
   ]
  },
  {
   "cell_type": "code",
   "execution_count": 79,
   "metadata": {},
   "outputs": [],
   "source": [
    "agg_dict={\"Age\":\"mean\",\"Fare\":\"max\",\"`Siblings/Spouses Aboard`\":\"std\"}"
   ]
  },
  {
   "cell_type": "code",
   "execution_count": 80,
   "metadata": {},
   "outputs": [
    {
     "name": "stdout",
     "output_type": "stream",
     "text": [
      "+--------+-------------------------------+------------------+---------+\n",
      "|Survived|stddev(Siblings/Spouses Aboard)|          avg(Age)|max(Fare)|\n",
      "+--------+-------------------------------+------------------+---------+\n",
      "|       0|              1.292248779344448| 30.13853211009174|       90|\n",
      "|       1|             0.7086875190740347|28.408391812865496|     93.5|\n",
      "+--------+-------------------------------+------------------+---------+\n",
      "\n"
     ]
    }
   ],
   "source": [
    "df.groupBy(\"Survived\").agg(agg_dict).show()"
   ]
  },
  {
   "cell_type": "code",
   "execution_count": 109,
   "metadata": {},
   "outputs": [
    {
     "name": "stdout",
     "output_type": "stream",
     "text": [
      "+--------+------+----------------------+--------+\n",
      "|Survived|   Sex|count(DISTINCT Pclass)|count(1)|\n",
      "+--------+------+----------------------+--------+\n",
      "|       1|  male|                     3|     109|\n",
      "|       1|female|                     3|     233|\n",
      "|       0|female|                     3|      81|\n",
      "|       0|  male|                     3|     464|\n",
      "+--------+------+----------------------+--------+\n",
      "\n"
     ]
    }
   ],
   "source": [
    "df.groupBy([\"Survived\",\"Sex\"]).agg({\"*\":f.countDistinct()}).show()"
   ]
  },
  {
   "cell_type": "code",
   "execution_count": 124,
   "metadata": {},
   "outputs": [
    {
     "name": "stdout",
     "output_type": "stream",
     "text": [
      "+--------+------+-----------+-------+\n",
      "|Survived|   Sex|dist_pclass|min_age|\n",
      "+--------+------+-----------+-------+\n",
      "|       1|  male|          3|   0.42|\n",
      "|       1|female|          3|   0.75|\n",
      "|       0|female|          3|     10|\n",
      "|       0|  male|          3|      1|\n",
      "+--------+------+-----------+-------+\n",
      "\n"
     ]
    }
   ],
   "source": [
    "df.groupBy([\"Survived\",\"Sex\"]).agg(*[f.max(\"Pclass\").alias(\"dist_pclass\"),f.min(\"Age\").alias(\"min_age\")]).show()"
   ]
  },
  {
   "cell_type": "code",
   "execution_count": null,
   "metadata": {
    "collapsed": true
   },
   "outputs": [],
   "source": [
    "import pyspark.sql"
   ]
  },
  {
   "cell_type": "code",
   "execution_count": 88,
   "metadata": {},
   "outputs": [],
   "source": [
    "df_date=df_schema.selectExpr(\"*\",\"current_date as date_field\")"
   ]
  },
  {
   "cell_type": "code",
   "execution_count": 89,
   "metadata": {},
   "outputs": [
    {
     "data": {
      "text/plain": [
       "[('Survived', 'int'),\n",
       " ('Pclass', 'int'),\n",
       " ('Name', 'string'),\n",
       " ('Sex', 'string'),\n",
       " ('Age', 'int'),\n",
       " ('Siblings/Spouses Aboard', 'int'),\n",
       " ('Parents/Children Aboard', 'int'),\n",
       " ('Fare', 'double'),\n",
       " ('date_field', 'date')]"
      ]
     },
     "execution_count": 89,
     "metadata": {},
     "output_type": "execute_result"
    }
   ],
   "source": [
    "df_date.dtypes"
   ]
  },
  {
   "cell_type": "code",
   "execution_count": 98,
   "metadata": {},
   "outputs": [
    {
     "name": "stdout",
     "output_type": "stream",
     "text": [
      "+----------------+-----+\n",
      "|year(date_field)|count|\n",
      "+----------------+-----+\n",
      "|            2019|  887|\n",
      "+----------------+-----+\n",
      "\n"
     ]
    }
   ],
   "source": [
    "df_date.groupby(f.year(\"date_field\")).count().show()"
   ]
  },
  {
   "cell_type": "code",
   "execution_count": 94,
   "metadata": {},
   "outputs": [
    {
     "name": "stdout",
     "output_type": "stream",
     "text": [
      "+------------------+-----+\n",
      "|month(string_date)|count|\n",
      "+------------------+-----+\n",
      "|                11|  887|\n",
      "+------------------+-----+\n",
      "\n"
     ]
    }
   ],
   "source": [
    "dftest=df.selectExpr(\"'2019-11-11' AS string_date\" ).groupBy(f.month(\"string_date\")).count().show()"
   ]
  },
  {
   "cell_type": "code",
   "execution_count": 127,
   "metadata": {},
   "outputs": [
    {
     "name": "stdout",
     "output_type": "stream",
     "text": [
      "+--------+--------------------+\n",
      "|Survived|collect_list(Pclass)|\n",
      "+--------+--------------------+\n",
      "|       1|[1, 3, 1, 3, 2, 3...|\n",
      "|       0|[3, 3, 3, 1, 3, 3...|\n",
      "+--------+--------------------+\n",
      "\n"
     ]
    }
   ],
   "source": [
    "df_schema.groupBy(\"Survived\").agg(f.collect_list(\"Pclass\")).show()"
   ]
  },
  {
   "cell_type": "code",
   "execution_count": 128,
   "metadata": {},
   "outputs": [
    {
     "name": "stdout",
     "output_type": "stream",
     "text": [
      "+--------+-------------------+\n",
      "|Survived|collect_set(Pclass)|\n",
      "+--------+-------------------+\n",
      "|       1|          [1, 2, 3]|\n",
      "|       0|          [1, 2, 3]|\n",
      "+--------+-------------------+\n",
      "\n"
     ]
    }
   ],
   "source": [
    "df_schema.groupBy(\"Survived\").agg(f.collect_set(\"Pclass\")).show()"
   ]
  },
  {
   "cell_type": "code",
   "execution_count": 133,
   "metadata": {
    "collapsed": true
   },
   "outputs": [
    {
     "name": "stdout",
     "output_type": "stream",
     "text": [
      "+--------+------+--------------------+------+---+-----------------------+-----------------------+--------+----------+\n",
      "|Survived|Pclass|                Name|   Sex|Age|Siblings/Spouses Aboard|Parents/Children Aboard|    Fare|date_field|\n",
      "+--------+------+--------------------+------+---+-----------------------+-----------------------+--------+----------+\n",
      "|       1|     1|Mrs. John Bradley...|female| 38|                      1|                      0| 71.2833|2019-12-01|\n",
      "|       1|     3|Miss. Laina Heikk...|female| 26|                      0|                      0|   7.925|2019-12-01|\n",
      "|       1|     1|Mrs. Jacques Heat...|female| 35|                      1|                      0|    53.1|2019-12-01|\n",
      "|       1|     3|Mrs. Oscar W (Eli...|female| 27|                      0|                      2| 11.1333|2019-12-01|\n",
      "|       1|     2|Mrs. Nicholas (Ad...|female| 14|                      1|                      0| 30.0708|2019-12-01|\n",
      "|       1|     3|Miss. Marguerite ...|female|  4|                      1|                      1|    16.7|2019-12-01|\n",
      "|       1|     1|Miss. Elizabeth B...|female| 58|                      0|                      0|   26.55|2019-12-01|\n",
      "|       1|     2|Mrs. (Mary D King...|female| 55|                      0|                      0|    16.0|2019-12-01|\n",
      "|       1|     2|Mr. Charles Eugen...|  male| 23|                      0|                      0|    13.0|2019-12-01|\n",
      "|       1|     3|Mrs. Fatima Masse...|female| 22|                      0|                      0|   7.225|2019-12-01|\n",
      "|       1|     2|Mr. Lawrence Beesley|  male| 34|                      0|                      0|    13.0|2019-12-01|\n",
      "|       1|     3|  Miss. Anna McGowan|female| 15|                      0|                      0|  8.0292|2019-12-01|\n",
      "|       1|     1|Mr. William Thomp...|  male| 28|                      0|                      0|    35.5|2019-12-01|\n",
      "|       1|     3|Mrs. Carl Oscar (...|female| 38|                      1|                      5| 31.3875|2019-12-01|\n",
      "|       1|     3| Miss. Ellen O'Dwyer|female| 24|                      0|                      0|  7.8792|2019-12-01|\n",
      "|       1|     1|Mrs. William Augu...|female| 48|                      1|                      0|146.5208|2019-12-01|\n",
      "|       1|     3|Miss. Mary Agatha...|female| 18|                      0|                      0|    7.75|2019-12-01|\n",
      "|       1|     3|     Mr. Hanna Mamee|  male| 18|                      0|                      0|  7.2292|2019-12-01|\n",
      "|       1|     3|Miss. Jamila Nico...|female| 14|                      1|                      0| 11.2417|2019-12-01|\n",
      "|       1|     2|Miss. Simonne Mar...|female|  3|                      1|                      2| 41.5792|2019-12-01|\n",
      "+--------+------+--------------------+------+---+-----------------------+-----------------------+--------+----------+\n",
      "only showing top 20 rows\n",
      "\n"
     ]
    }
   ],
   "source": [
    "df_date.filter(\"Survived=1\").show()"
   ]
  },
  {
   "cell_type": "code",
   "execution_count": 135,
   "metadata": {},
   "outputs": [
    {
     "name": "stdout",
     "output_type": "stream",
     "text": [
      "+--------+------+--------------------+------+---+-----------------------+-----------------------+-------+----------+\n",
      "|Survived|Pclass|                Name|   Sex|Age|Siblings/Spouses Aboard|Parents/Children Aboard|   Fare|date_field|\n",
      "+--------+------+--------------------+------+---+-----------------------+-----------------------+-------+----------+\n",
      "|       1|     1|Mrs. John Bradley...|female| 38|                      1|                      0|71.2833|2019-12-01|\n",
      "|       1|     3|Miss. Laina Heikk...|female| 26|                      0|                      0|  7.925|2019-12-01|\n",
      "|       1|     1|Mrs. Jacques Heat...|female| 35|                      1|                      0|   53.1|2019-12-01|\n",
      "+--------+------+--------------------+------+---+-----------------------+-----------------------+-------+----------+\n",
      "only showing top 3 rows\n",
      "\n"
     ]
    }
   ],
   "source": [
    "df_date.filter(f.col(\"Survived\")==1).show(3)"
   ]
  },
  {
   "cell_type": "code",
   "execution_count": 138,
   "metadata": {},
   "outputs": [
    {
     "name": "stdout",
     "output_type": "stream",
     "text": [
      "+--------+------+--------------------+----+---+-----------------------+-----------------------+----+----------+\n",
      "|Survived|Pclass|                Name| Sex|Age|Siblings/Spouses Aboard|Parents/Children Aboard|Fare|date_field|\n",
      "+--------+------+--------------------+----+---+-----------------------+-----------------------+----+----------+\n",
      "|       1|     2|Mr. Charles Eugen...|male| 23|                      0|                      0|13.0|2019-12-01|\n",
      "|       1|     2|Mr. Lawrence Beesley|male| 34|                      0|                      0|13.0|2019-12-01|\n",
      "|       1|     1|Mr. William Thomp...|male| 28|                      0|                      0|35.5|2019-12-01|\n",
      "+--------+------+--------------------+----+---+-----------------------+-----------------------+----+----------+\n",
      "only showing top 3 rows\n",
      "\n"
     ]
    }
   ],
   "source": [
    "df_date.filter((f.col(\"Survived\")==1) & (f.col(\"Sex\")==\"male\")).show(3)"
   ]
  },
  {
   "cell_type": "code",
   "execution_count": 145,
   "metadata": {},
   "outputs": [
    {
     "name": "stdout",
     "output_type": "stream",
     "text": [
      "+--------+------+--------------------+------+---+-----------------------+-----------------------+-------+----------+\n",
      "|Survived|Pclass|                Name|   Sex|Age|Siblings/Spouses Aboard|Parents/Children Aboard|   Fare|date_field|\n",
      "+--------+------+--------------------+------+---+-----------------------+-----------------------+-------+----------+\n",
      "|       1|     1|Miss. Mabel Helen...|female| 23|                      3|                      2|  263.0|2019-12-01|\n",
      "|       1|     1|Mr. William Bertr...|  male| 23|                      0|                      1|63.3583|2019-12-01|\n",
      "|       1|     1|Miss. Marjorie Ne...|female| 23|                      1|                      0|113.275|2019-12-01|\n",
      "+--------+------+--------------------+------+---+-----------------------+-----------------------+-------+----------+\n",
      "\n"
     ]
    }
   ],
   "source": [
    "df_date.filter(\"Pclass = 1 and Age=23\").show()"
   ]
  },
  {
   "cell_type": "code",
   "execution_count": 147,
   "metadata": {
    "collapsed": true
   },
   "outputs": [
    {
     "name": "stdout",
     "output_type": "stream",
     "text": [
      "+--------+------+--------------------+----+---+-----------------------+-----------------------+--------+----------+\n",
      "|Survived|Pclass|                Name| Sex|Age|Siblings/Spouses Aboard|Parents/Children Aboard|    Fare|date_field|\n",
      "+--------+------+--------------------+----+---+-----------------------+-----------------------+--------+----------+\n",
      "|       0|     3|Mr. William John ...|male| 30|                      0|                      0|    8.05|2019-12-01|\n",
      "|       0|     3|Mr. David John Ba...|male| 22|                      0|                      0|    8.05|2019-12-01|\n",
      "|       0|     2|Mr. William John ...|male| 29|                      1|                      0|    21.0|2019-12-01|\n",
      "|       0|     3|Mr. John Hatfield...|male| 44|                      0|                      1|    16.1|2019-12-01|\n",
      "|       0|     3|Mr. John Viktor B...|male| 26|                      0|                      0|   7.775|2019-12-01|\n",
      "|       1|     3|Master. Frank Joh...|male|  9|                      0|                      2|  20.525|2019-12-01|\n",
      "|       0|     1|  Mr. John D Baumann|male| 60|                      0|                      0|  25.925|2019-12-01|\n",
      "|       0|     3|     Mr. John Bourke|male| 40|                      1|                      1|    15.5|2019-12-01|\n",
      "|       0|     3|Mr. John Henry Pe...|male| 22|                      0|                      0|    7.25|2019-12-01|\n",
      "|       1|     2|Mr. William John ...|male| 19|                      0|                      0|    10.5|2019-12-01|\n",
      "|       0|     3|Mr. William Cahoo...|male| 19|                      0|                      0|     0.0|2019-12-01|\n",
      "|       0|     3|Mr. George John J...|male| 20|                      8|                      2|   69.55|2019-12-01|\n",
      "|       0|     3|      Mr. John Adams|male| 26|                      0|                      0|    8.05|2019-12-01|\n",
      "|       0|     2|Mr. William John ...|male| 30|                      0|                      0|    13.0|2019-12-01|\n",
      "|       0|     1|Mr. John Montgome...|male| 56|                      0|                      0|   26.55|2019-12-01|\n",
      "|       0|     1|   Mr. John Farthing|male| 49|                      0|                      0|221.7792|2019-12-01|\n",
      "|       0|     3|Mr. Frank John Go...|male| 33|                      1|                      1|  20.525|2019-12-01|\n",
      "|       1|     2|Master. John Morg...|male|  8|                      1|                      1|   36.75|2019-12-01|\n",
      "|       1|     1|Mr. John Borland ...|male| 17|                      0|                      2|110.8833|2019-12-01|\n",
      "|       0|     3|    Mr. John Simmons|male| 40|                      0|                      0|    8.05|2019-12-01|\n",
      "+--------+------+--------------------+----+---+-----------------------+-----------------------+--------+----------+\n",
      "only showing top 20 rows\n",
      "\n"
     ]
    }
   ],
   "source": [
    "df_date.filter(\"Sex = 'male' and Name like '%John%'\").show()"
   ]
  },
  {
   "cell_type": "code",
   "execution_count": 153,
   "metadata": {
    "collapsed": true
   },
   "outputs": [
    {
     "name": "stdout",
     "output_type": "stream",
     "text": [
      "+--------+------+--------------------+----+---+-----------------------+-----------------------+--------+----------+\n",
      "|Survived|Pclass|                Name| Sex|Age|Siblings/Spouses Aboard|Parents/Children Aboard|    Fare|date_field|\n",
      "+--------+------+--------------------+----+---+-----------------------+-----------------------+--------+----------+\n",
      "|       0|     1|Mr. Timothy J McC...|male| 54|                      0|                      0| 51.8625|2019-12-01|\n",
      "|       1|     1|Mr. William Thomp...|male| 28|                      0|                      0|    35.5|2019-12-01|\n",
      "|       0|     1|Mr. Charles Alexa...|male| 19|                      3|                      2|   263.0|2019-12-01|\n",
      "|       0|     1|Don. Manuel E Uru...|male| 40|                      0|                      0| 27.7208|2019-12-01|\n",
      "|       0|     1|Mr. Edgar Joseph ...|male| 28|                      1|                      0| 82.1708|2019-12-01|\n",
      "|       0|     1|Mr. Alexander Osk...|male| 42|                      1|                      0|    52.0|2019-12-01|\n",
      "|       0|     1|Mr. Engelhart Cor...|male| 65|                      0|                      1| 61.9792|2019-12-01|\n",
      "|       1|     1|    Mr. Hugh Woolner|male| 46|                      0|                      0|    35.5|2019-12-01|\n",
      "|       0|     1|Mr. Henry Birkhar...|male| 45|                      1|                      0|  83.475|2019-12-01|\n",
      "|       0|     1|Mr. Albert A Stewart|male| 64|                      0|                      0| 27.7208|2019-12-01|\n",
      "|       0|     1|Mr. Francisco M C...|male| 28|                      0|                      0|    47.1|2019-12-01|\n",
      "|       0|     1|Mr. Herbert Fulle...|male| 46|                      1|                      0|  61.175|2019-12-01|\n",
      "|       0|     1|Mr. George B Gold...|male| 71|                      0|                      0| 34.6542|2019-12-01|\n",
      "|       1|     1|Mr. William Bertr...|male| 23|                      0|                      1| 63.3583|2019-12-01|\n",
      "|       0|     1|Mr. Richard Frasa...|male| 21|                      0|                      1| 77.2875|2019-12-01|\n",
      "|       0|     1|Mr. Walter Chambe...|male| 47|                      0|                      0|    52.0|2019-12-01|\n",
      "|       0|     1|Mr. Quigg Edmond ...|male| 24|                      0|                      1|247.5208|2019-12-01|\n",
      "|       0|     1|Mr. Percival Wayl...|male| 54|                      0|                      1| 77.2875|2019-12-01|\n",
      "|       0|     1|Mr. Jacques Heath...|male| 37|                      1|                      0|    53.1|2019-12-01|\n",
      "|       0|     1|   Mr. Victor Giglio|male| 24|                      0|                      0|    79.2|2019-12-01|\n",
      "+--------+------+--------------------+----+---+-----------------------+-----------------------+--------+----------+\n",
      "only showing top 20 rows\n",
      "\n"
     ]
    }
   ],
   "source": [
    "df_date[(df_date.Pclass==1) & (df_date.Sex==\"male\")].show()"
   ]
  },
  {
   "cell_type": "code",
   "execution_count": null,
   "metadata": {
    "collapsed": true
   },
   "outputs": [],
   "source": []
  }
 ],
 "metadata": {
  "kernelspec": {
   "display_name": "Python 3",
   "language": "python",
   "name": "python3"
  },
  "language_info": {
   "codemirror_mode": {
    "name": "ipython",
    "version": 2
   },
   "file_extension": ".py",
   "mimetype": "text/x-python",
   "name": "python",
   "nbconvert_exporter": "python",
   "pygments_lexer": "ipython2",
   "version": "2.7.16"
  }
 },
 "nbformat": 4,
 "nbformat_minor": 2
}
