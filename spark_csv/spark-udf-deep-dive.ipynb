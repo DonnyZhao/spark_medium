{
 "cells": [
  {
   "cell_type": "code",
   "execution_count": 39,
   "metadata": {
    "collapsed": true
   },
   "outputs": [],
   "source": [
    "df=spark.createDataFrame([['test'],['malayalam'],['check'],['malaYALAM']],['words'])"
   ]
  },
  {
   "cell_type": "code",
   "execution_count": 40,
   "metadata": {},
   "outputs": [
    {
     "name": "stdout",
     "output_type": "stream",
     "text": [
      "+---------+\n",
      "|    words|\n",
      "+---------+\n",
      "|     test|\n",
      "|malayalam|\n",
      "|    check|\n",
      "|malaYALAM|\n",
      "+---------+\n",
      "\n"
     ]
    }
   ],
   "source": [
    "df.show()"
   ]
  },
  {
   "cell_type": "code",
   "execution_count": 199,
   "metadata": {
    "collapsed": true
   },
   "outputs": [],
   "source": [
    "import pyspark.sql.functions as f"
   ]
  },
  {
   "cell_type": "code",
   "execution_count": 8,
   "metadata": {
    "collapsed": true
   },
   "outputs": [],
   "source": [
    "import numpy as np"
   ]
  },
  {
   "cell_type": "code",
   "execution_count": 150,
   "metadata": {
    "collapsed": true
   },
   "outputs": [],
   "source": [
    "def palindrome(row):\n",
    "    return True if row[::-1].lower()==row.lower() else False"
   ]
  },
  {
   "cell_type": "code",
   "execution_count": 46,
   "metadata": {
    "collapsed": true
   },
   "outputs": [],
   "source": [
    "from pyspark.sql.functions import udf\n",
    "from pyspark.sql.types import BooleanType\n"
   ]
  },
  {
   "cell_type": "code",
   "execution_count": 47,
   "metadata": {
    "collapsed": true
   },
   "outputs": [],
   "source": [
    "check_palindrome=udf(palindrome,BooleanType())"
   ]
  },
  {
   "cell_type": "code",
   "execution_count": 49,
   "metadata": {
    "collapsed": true
   },
   "outputs": [],
   "source": [
    "df2=df.select('*',check_palindrome('words'))"
   ]
  },
  {
   "cell_type": "code",
   "execution_count": 50,
   "metadata": {},
   "outputs": [
    {
     "name": "stdout",
     "output_type": "stream",
     "text": [
      "+---------+-----------------+\n",
      "|    words|palindrome(words)|\n",
      "+---------+-----------------+\n",
      "|     test|            false|\n",
      "|malayalam|             true|\n",
      "|    check|            false|\n",
      "|malaYALAM|             true|\n",
      "+---------+-----------------+\n",
      "\n"
     ]
    }
   ],
   "source": [
    "df2.show()"
   ]
  },
  {
   "cell_type": "code",
   "execution_count": 51,
   "metadata": {},
   "outputs": [
    {
     "data": {
      "text/plain": [
       "[('words', 'string'), ('palindrome(words)', 'boolean')]"
      ]
     },
     "execution_count": 51,
     "metadata": {},
     "output_type": "execute_result"
    }
   ],
   "source": [
    "df2.dtypes"
   ]
  },
  {
   "cell_type": "code",
   "execution_count": 52,
   "metadata": {
    "collapsed": true
   },
   "outputs": [],
   "source": [
    "df_test=spark.range(10)"
   ]
  },
  {
   "cell_type": "code",
   "execution_count": 58,
   "metadata": {
    "collapsed": true
   },
   "outputs": [
    {
     "name": "stdout",
     "output_type": "stream",
     "text": [
      "+---------+\n",
      "|(id * id)|\n",
      "+---------+\n",
      "|        0|\n",
      "|        1|\n",
      "|        4|\n",
      "|        9|\n",
      "|       16|\n",
      "|       25|\n",
      "|       36|\n",
      "|       49|\n",
      "|       64|\n",
      "|       81|\n",
      "+---------+\n",
      "\n"
     ]
    }
   ],
   "source": [
    "df_test.select(f.col('id')*f.col('id')).show()"
   ]
  },
  {
   "cell_type": "code",
   "execution_count": 62,
   "metadata": {
    "collapsed": true
   },
   "outputs": [],
   "source": [
    "import pyarrow"
   ]
  },
  {
   "cell_type": "code",
   "execution_count": 61,
   "metadata": {},
   "outputs": [
    {
     "data": {
      "text/plain": [
       "'0.14.1'"
      ]
     },
     "execution_count": 61,
     "metadata": {},
     "output_type": "execute_result"
    }
   ],
   "source": [
    "pyarrow.__version__"
   ]
  },
  {
   "cell_type": "code",
   "execution_count": 85,
   "metadata": {},
   "outputs": [
    {
     "data": {
      "text/plain": [
       "u'true'"
      ]
     },
     "execution_count": 85,
     "metadata": {},
     "output_type": "execute_result"
    }
   ],
   "source": [
    "spark.conf.get(\"spark.sql.execution.arrow.enabled\", \"true\")"
   ]
  },
  {
   "cell_type": "code",
   "execution_count": 28,
   "metadata": {
    "collapsed": true
   },
   "outputs": [],
   "source": [
    "from pyspark.sql.functions import pandas_udf\n",
    "from pyspark.sql.functions import PandasUDFType\n",
    "from pyspark.sql.types import *"
   ]
  },
  {
   "cell_type": "code",
   "execution_count": 154,
   "metadata": {
    "collapsed": true
   },
   "outputs": [],
   "source": [
    "def vector_palindrome(pandas_series):\n",
    "    return pandas_series.apply(palindrome)"
   ]
  },
  {
   "cell_type": "code",
   "execution_count": 159,
   "metadata": {
    "collapsed": true
   },
   "outputs": [],
   "source": [
    "vectorized_palindrome=pandas_udf(vector_palindrome,returnType=BooleanType(),functionType=PandasUDFType.SCALAR)"
   ]
  },
  {
   "cell_type": "code",
   "execution_count": 161,
   "metadata": {},
   "outputs": [
    {
     "name": "stdout",
     "output_type": "stream",
     "text": [
      "+---------+------------------------+\n",
      "|    words|vector_palindrome(words)|\n",
      "+---------+------------------------+\n",
      "|     test|                   false|\n",
      "|malayalam|                    true|\n",
      "|    check|                   false|\n",
      "|malaYALAM|                    true|\n",
      "+---------+------------------------+\n",
      "\n"
     ]
    }
   ],
   "source": [
    "df.select('*',vectorized_palindrome('words')).show()"
   ]
  },
  {
   "cell_type": "code",
   "execution_count": 25,
   "metadata": {
    "collapsed": true
   },
   "outputs": [],
   "source": [
    "df_purchase=spark.createDataFrame([(1,3),(2,4),(3,5),(1,5),(2,7),(3,5)],['id','purchase'])"
   ]
  },
  {
   "cell_type": "code",
   "execution_count": 26,
   "metadata": {},
   "outputs": [
    {
     "name": "stdout",
     "output_type": "stream",
     "text": [
      "+---+--------+\n",
      "| id|purchase|\n",
      "+---+--------+\n",
      "|  1|       3|\n",
      "|  2|       4|\n",
      "|  3|       5|\n",
      "|  1|       5|\n",
      "|  2|       7|\n",
      "|  3|       5|\n",
      "+---+--------+\n",
      "\n"
     ]
    }
   ],
   "source": [
    "df_purchase.show()"
   ]
  },
  {
   "cell_type": "code",
   "execution_count": 142,
   "metadata": {},
   "outputs": [],
   "source": [
    "from scipy.stats.mstats import gmean\n",
    "def count_udf(df):\n",
    "    #print(df)\n",
    "    df['geometric_mean']=gmean(df.purchase)\n",
    "    return df"
   ]
  },
  {
   "cell_type": "code",
   "execution_count": 141,
   "metadata": {},
   "outputs": [],
   "source": [
    "vectorized_geometric=\\\n",
    "pandas_udf(count_udf,returnType=\"id bigint,purchase bigint,geometric_mean double\",\\\n",
    "           functionType=PandasUDFType.GROUPED_MAP)"
   ]
  },
  {
   "cell_type": "code",
   "execution_count": 139,
   "metadata": {},
   "outputs": [],
   "source": [
    "df_opt=df_purchase.groupby('id').apply(vectorized_geometric)"
   ]
  },
  {
   "cell_type": "code",
   "execution_count": 144,
   "metadata": {},
   "outputs": [
    {
     "name": "stdout",
     "output_type": "stream",
     "text": [
      "+---+--------+------------------+\n",
      "| id|purchase|    geometric_mean|\n",
      "+---+--------+------------------+\n",
      "|  1|       3| 3.872983346207417|\n",
      "|  1|       5| 3.872983346207417|\n",
      "|  3|       5| 4.999999999999999|\n",
      "|  3|       5| 4.999999999999999|\n",
      "|  2|       4|5.2915026221291805|\n",
      "|  2|       7|5.2915026221291805|\n",
      "+---+--------+------------------+\n",
      "\n"
     ]
    }
   ],
   "source": [
    "df_opt.show()"
   ]
  },
  {
   "cell_type": "code",
   "execution_count": 140,
   "metadata": {},
   "outputs": [
    {
     "data": {
      "text/plain": [
       "[('id', 'bigint'), ('purchase', 'bigint'), ('geometric_mean', 'double')]"
      ]
     },
     "execution_count": 140,
     "metadata": {},
     "output_type": "execute_result"
    }
   ],
   "source": [
    "df_opt.dtypes"
   ]
  },
  {
   "cell_type": "code",
   "execution_count": 227,
   "metadata": {},
   "outputs": [],
   "source": [
    "@pandas_udf(\"int\", PandasUDFType.GROUPED_AGG)\n",
    "def odd_sum(df):\n",
    "    return (df[df %2 ==1 ].count())"
   ]
  },
  {
   "cell_type": "code",
   "execution_count": 228,
   "metadata": {},
   "outputs": [
    {
     "name": "stdout",
     "output_type": "stream",
     "text": [
      "+---+-----------------+\n",
      "| id|odd_sum(purchase)|\n",
      "+---+-----------------+\n",
      "|  1|                2|\n",
      "|  3|                2|\n",
      "|  2|                1|\n",
      "+---+-----------------+\n",
      "\n"
     ]
    }
   ],
   "source": [
    "df_purchase.groupBy('id').agg(odd_sum(df_purchase['purchase'])).show()"
   ]
  },
  {
   "cell_type": "code",
   "execution_count": null,
   "metadata": {
    "collapsed": true
   },
   "outputs": [],
   "source": []
  }
 ],
 "metadata": {
  "kernelspec": {
   "display_name": "Python 3",
   "language": "python",
   "name": "python3"
  },
  "language_info": {
   "codemirror_mode": {
    "name": "ipython",
    "version": 2
   },
   "file_extension": ".py",
   "mimetype": "text/x-python",
   "name": "python",
   "nbconvert_exporter": "python",
   "pygments_lexer": "ipython2",
   "version": "2.7.16"
  }
 },
 "nbformat": 4,
 "nbformat_minor": 2
}
