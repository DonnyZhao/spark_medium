{
 "cells": [
  {
   "cell_type": "code",
   "execution_count": 11,
   "metadata": {
    "collapsed": true
   },
   "outputs": [],
   "source": [
    "from pyspark.sql import *\n"
   ]
  },
  {
   "cell_type": "code",
   "execution_count": 2,
   "metadata": {
    "collapsed": true
   },
   "outputs": [],
   "source": [
    "spark=SparkSession.builder.getOrCreate()"
   ]
  },
  {
   "cell_type": "code",
   "execution_count": 3,
   "metadata": {
    "collapsed": true
   },
   "outputs": [],
   "source": [
    "data_path=\"titanic.csv\""
   ]
  },
  {
   "cell_type": "code",
   "execution_count": 6,
   "metadata": {
    "collapsed": true
   },
   "outputs": [],
   "source": [
    "df=spark.read.csv(data_path,header=True)"
   ]
  },
  {
   "cell_type": "code",
   "execution_count": 7,
   "metadata": {
    "collapsed": true
   },
   "outputs": [
    {
     "name": "stdout",
     "output_type": "stream",
     "text": [
      "+--------+------+--------------------+------+---+-----------------------+-----------------------+-------+\n",
      "|Survived|Pclass|                Name|   Sex|Age|Siblings/Spouses Aboard|Parents/Children Aboard|   Fare|\n",
      "+--------+------+--------------------+------+---+-----------------------+-----------------------+-------+\n",
      "|       0|     3|Mr. Owen Harris B...|  male| 22|                      1|                      0|   7.25|\n",
      "|       1|     1|Mrs. John Bradley...|female| 38|                      1|                      0|71.2833|\n",
      "|       1|     3|Miss. Laina Heikk...|female| 26|                      0|                      0|  7.925|\n",
      "|       1|     1|Mrs. Jacques Heat...|female| 35|                      1|                      0|   53.1|\n",
      "|       0|     3|Mr. William Henry...|  male| 35|                      0|                      0|   8.05|\n",
      "|       0|     3|     Mr. James Moran|  male| 27|                      0|                      0| 8.4583|\n",
      "|       0|     1|Mr. Timothy J McC...|  male| 54|                      0|                      0|51.8625|\n",
      "|       0|     3|Master. Gosta Leo...|  male|  2|                      3|                      1| 21.075|\n",
      "|       1|     3|Mrs. Oscar W (Eli...|female| 27|                      0|                      2|11.1333|\n",
      "|       1|     2|Mrs. Nicholas (Ad...|female| 14|                      1|                      0|30.0708|\n",
      "|       1|     3|Miss. Marguerite ...|female|  4|                      1|                      1|   16.7|\n",
      "|       1|     1|Miss. Elizabeth B...|female| 58|                      0|                      0|  26.55|\n",
      "|       0|     3|Mr. William Henry...|  male| 20|                      0|                      0|   8.05|\n",
      "|       0|     3|Mr. Anders Johan ...|  male| 39|                      1|                      5| 31.275|\n",
      "|       0|     3|Miss. Hulda Amand...|female| 14|                      0|                      0| 7.8542|\n",
      "|       1|     2|Mrs. (Mary D King...|female| 55|                      0|                      0|     16|\n",
      "|       0|     3| Master. Eugene Rice|  male|  2|                      4|                      1| 29.125|\n",
      "|       1|     2|Mr. Charles Eugen...|  male| 23|                      0|                      0|     13|\n",
      "|       0|     3|Mrs. Julius (Emel...|female| 31|                      1|                      0|     18|\n",
      "|       1|     3|Mrs. Fatima Masse...|female| 22|                      0|                      0|  7.225|\n",
      "+--------+------+--------------------+------+---+-----------------------+-----------------------+-------+\n",
      "only showing top 20 rows\n",
      "\n"
     ]
    }
   ],
   "source": [
    "df.show()"
   ]
  },
  {
   "cell_type": "code",
   "execution_count": 14,
   "metadata": {
    "collapsed": true
   },
   "outputs": [
    {
     "name": "stdout",
     "output_type": "stream",
     "text": [
      "+--------+---+\n",
      "|Survived|Age|\n",
      "+--------+---+\n",
      "|       0| 22|\n",
      "|       1| 38|\n",
      "|       1| 26|\n",
      "+--------+---+\n",
      "only showing top 3 rows\n",
      "\n"
     ]
    }
   ],
   "source": [
    "df.select([\"Survived\",\"Age\"]).show(3)"
   ]
  },
  {
   "cell_type": "code",
   "execution_count": 24,
   "metadata": {
    "collapsed": true
   },
   "outputs": [],
   "source": [
    "import pyspark.sql.functions as f"
   ]
  },
  {
   "cell_type": "code",
   "execution_count": 25,
   "metadata": {
    "collapsed": true
   },
   "outputs": [
    {
     "name": "stdout",
     "output_type": "stream",
     "text": [
      "+--------+---+\n",
      "|Survived|Age|\n",
      "+--------+---+\n",
      "|       0| 22|\n",
      "|       1| 38|\n",
      "|       1| 26|\n",
      "+--------+---+\n",
      "only showing top 3 rows\n",
      "\n"
     ]
    }
   ],
   "source": [
    "df.select([f.col(\"Survived\"),f.col(\"Age\")]).show(3)"
   ]
  },
  {
   "cell_type": "code",
   "execution_count": 29,
   "metadata": {},
   "outputs": [
    {
     "name": "stdout",
     "output_type": "stream",
     "text": [
      "+--------+------+--------------------+------+---+-----------------------+-----------------------+-------+\n",
      "|Survived|Pclass|                Name|   Sex|Age|Siblings/Spouses Aboard|Parents/Children Aboard|   Fare|\n",
      "+--------+------+--------------------+------+---+-----------------------+-----------------------+-------+\n",
      "|       0|     3|Mr. Owen Harris B...|  male| 22|                      1|                      0|   7.25|\n",
      "|       1|     1|Mrs. John Bradley...|female| 38|                      1|                      0|71.2833|\n",
      "|       1|     3|Miss. Laina Heikk...|female| 26|                      0|                      0|  7.925|\n",
      "+--------+------+--------------------+------+---+-----------------------+-----------------------+-------+\n",
      "only showing top 3 rows\n",
      "\n"
     ]
    }
   ],
   "source": [
    "df.select(\"*\").show(3)"
   ]
  },
  {
   "cell_type": "code",
   "execution_count": 30,
   "metadata": {
    "collapsed": true
   },
   "outputs": [],
   "source": [
    "df_inr=df.select(\"*\",(f.col(\"Fare\")+100).alias(\"Indian_INR\"))"
   ]
  },
  {
   "cell_type": "code",
   "execution_count": 31,
   "metadata": {},
   "outputs": [
    {
     "name": "stdout",
     "output_type": "stream",
     "text": [
      "+--------+------+--------------------+------+---+-----------------------+-----------------------+-------+----------+\n",
      "|Survived|Pclass|                Name|   Sex|Age|Siblings/Spouses Aboard|Parents/Children Aboard|   Fare|Indian_INR|\n",
      "+--------+------+--------------------+------+---+-----------------------+-----------------------+-------+----------+\n",
      "|       0|     3|Mr. Owen Harris B...|  male| 22|                      1|                      0|   7.25|    107.25|\n",
      "|       1|     1|Mrs. John Bradley...|female| 38|                      1|                      0|71.2833|  171.2833|\n",
      "|       1|     3|Miss. Laina Heikk...|female| 26|                      0|                      0|  7.925|   107.925|\n",
      "+--------+------+--------------------+------+---+-----------------------+-----------------------+-------+----------+\n",
      "only showing top 3 rows\n",
      "\n"
     ]
    }
   ],
   "source": [
    "df_inr.show(3)"
   ]
  },
  {
   "cell_type": "code",
   "execution_count": 34,
   "metadata": {},
   "outputs": [
    {
     "name": "stdout",
     "output_type": "stream",
     "text": [
      "+--------+-----------------+\n",
      "|Survived|Survived_reversed|\n",
      "+--------+-----------------+\n",
      "|       0|                1|\n",
      "|       1|                0|\n",
      "|       1|                0|\n",
      "+--------+-----------------+\n",
      "only showing top 3 rows\n",
      "\n"
     ]
    }
   ],
   "source": [
    "df.selectExpr(\"Survived\",\"case when Survived=0 then 1 else 0 end as Survived_reversed\").show(3)"
   ]
  },
  {
   "cell_type": "code",
   "execution_count": 38,
   "metadata": {
    "scrolled": true
   },
   "outputs": [
    {
     "name": "stdout",
     "output_type": "stream",
     "text": [
      "+--------------------+--------+\n",
      "|                Name|len_name|\n",
      "+--------------------+--------+\n",
      "|Mr. Owen Harris B...|      22|\n",
      "|Mrs. John Bradley...|      50|\n",
      "|Miss. Laina Heikk...|      21|\n",
      "+--------------------+--------+\n",
      "only showing top 3 rows\n",
      "\n"
     ]
    }
   ],
   "source": [
    "df.selectExpr(\"Name\",\"length(Name) as len_name\").show(3)"
   ]
  },
  {
   "cell_type": "code",
   "execution_count": 39,
   "metadata": {},
   "outputs": [
    {
     "data": {
      "text/plain": [
       "[('Survived', 'string'),\n",
       " ('Pclass', 'string'),\n",
       " ('Name', 'string'),\n",
       " ('Sex', 'string'),\n",
       " ('Age', 'string'),\n",
       " ('Siblings/Spouses Aboard', 'string'),\n",
       " ('Parents/Children Aboard', 'string'),\n",
       " ('Fare', 'string')]"
      ]
     },
     "execution_count": 39,
     "metadata": {},
     "output_type": "execute_result"
    }
   ],
   "source": [
    "df.dtypes"
   ]
  },
  {
   "cell_type": "code",
   "execution_count": 41,
   "metadata": {},
   "outputs": [],
   "source": [
    "df_cast=df.selectExpr(\"*\",\"cast(Survived as int) as Survived_int\")"
   ]
  },
  {
   "cell_type": "code",
   "execution_count": 43,
   "metadata": {},
   "outputs": [
    {
     "data": {
      "text/plain": [
       "[('Survived', 'string'),\n",
       " ('Pclass', 'string'),\n",
       " ('Name', 'string'),\n",
       " ('Sex', 'string'),\n",
       " ('Age', 'string'),\n",
       " ('Siblings/Spouses Aboard', 'string'),\n",
       " ('Parents/Children Aboard', 'string'),\n",
       " ('Fare', 'string'),\n",
       " ('Survived_int', 'int')]"
      ]
     },
     "execution_count": 43,
     "metadata": {},
     "output_type": "execute_result"
    }
   ],
   "source": [
    "df_cast.dtypes"
   ]
  },
  {
   "cell_type": "code",
   "execution_count": 49,
   "metadata": {},
   "outputs": [
    {
     "name": "stdout",
     "output_type": "stream",
     "text": [
      "+--------+------+--------------------+------+---+-----------------------+-----------------------+-------+----------+\n",
      "|Survived|Pclass|                Name|   Sex|Age|Siblings/Spouses Aboard|Parents/Children Aboard|   Fare|      date|\n",
      "+--------+------+--------------------+------+---+-----------------------+-----------------------+-------+----------+\n",
      "|       0|     3|Mr. Owen Harris B...|  male| 22|                      1|                      0|   7.25|2019-11-30|\n",
      "|       1|     1|Mrs. John Bradley...|female| 38|                      1|                      0|71.2833|2019-11-30|\n",
      "|       1|     3|Miss. Laina Heikk...|female| 26|                      0|                      0|  7.925|2019-11-30|\n",
      "+--------+------+--------------------+------+---+-----------------------+-----------------------+-------+----------+\n",
      "only showing top 3 rows\n",
      "\n"
     ]
    }
   ],
   "source": [
    "df.selectExpr(\"*\",\"current_date as date\").show(3)"
   ]
  },
  {
   "cell_type": "code",
   "execution_count": 55,
   "metadata": {
    "collapsed": true
   },
   "outputs": [],
   "source": [
    "user_cols=\"Survived,Name,Age\"\n",
    "user_cols_list=user_cols.split(\",\")"
   ]
  },
  {
   "cell_type": "code",
   "execution_count": 56,
   "metadata": {},
   "outputs": [
    {
     "name": "stdout",
     "output_type": "stream",
     "text": [
      "+--------+--------------------+---+\n",
      "|Survived|                Name|Age|\n",
      "+--------+--------------------+---+\n",
      "|       0|Mr. Owen Harris B...| 22|\n",
      "|       1|Mrs. John Bradley...| 38|\n",
      "|       1|Miss. Laina Heikk...| 26|\n",
      "+--------+--------------------+---+\n",
      "only showing top 3 rows\n",
      "\n"
     ]
    }
   ],
   "source": [
    "df.select([x for x in df.columns if x in user_cols_list ]).show(3)"
   ]
  },
  {
   "cell_type": "code",
   "execution_count": null,
   "metadata": {
    "collapsed": true
   },
   "outputs": [],
   "source": []
  }
 ],
 "metadata": {
  "kernelspec": {
   "display_name": "Python 3",
   "language": "python",
   "name": "python3"
  },
  "language_info": {
   "codemirror_mode": {
    "name": "ipython",
    "version": 2
   },
   "file_extension": ".py",
   "mimetype": "text/x-python",
   "name": "python",
   "nbconvert_exporter": "python",
   "pygments_lexer": "ipython2",
   "version": "2.7.16"
  }
 },
 "nbformat": 4,
 "nbformat_minor": 2
}
