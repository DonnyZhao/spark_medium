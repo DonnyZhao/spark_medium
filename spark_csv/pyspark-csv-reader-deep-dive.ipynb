{
 "cells": [
  {
   "cell_type": "code",
   "execution_count": 1,
   "metadata": {
    "collapsed": true
   },
   "outputs": [],
   "source": [
    "from pyspark.sql import SparkSession"
   ]
  },
  {
   "cell_type": "code",
   "execution_count": 3,
   "metadata": {},
   "outputs": [],
   "source": [
    "spark=SparkSession.builder.getOrCreate()"
   ]
  },
  {
   "cell_type": "code",
   "execution_count": 4,
   "metadata": {},
   "outputs": [
    {
     "data": {
      "text/html": [
       "\n",
       "            <div>\n",
       "                <p><b>SparkSession - hive</b></p>\n",
       "                \n",
       "        <div>\n",
       "            <p><b>SparkContext</b></p>\n",
       "\n",
       "            <p><a href=\"http://192.168.43.163:4040\">Spark UI</a></p>\n",
       "\n",
       "            <dl>\n",
       "              <dt>Version</dt>\n",
       "                <dd><code>v2.2.0</code></dd>\n",
       "              <dt>Master</dt>\n",
       "                <dd><code>local[*]</code></dd>\n",
       "              <dt>AppName</dt>\n",
       "                <dd><code>PySparkShell</code></dd>\n",
       "            </dl>\n",
       "        </div>\n",
       "        \n",
       "            </div>\n",
       "        "
      ],
      "text/plain": [
       "<pyspark.sql.session.SparkSession at 0x7f94d3d9e510>"
      ]
     },
     "execution_count": 4,
     "metadata": {},
     "output_type": "execute_result"
    }
   ],
   "source": [
    "spark"
   ]
  },
  {
   "cell_type": "code",
   "execution_count": 118,
   "metadata": {
    "collapsed": true
   },
   "outputs": [],
   "source": [
    "data_path=\"your_data_path\""
   ]
  },
  {
   "cell_type": "code",
   "execution_count": 117,
   "metadata": {
    "scrolled": false
   },
   "outputs": [],
   "source": [
    "spark_df=spark.read.csv(data_path)"
   ]
  },
  {
   "cell_type": "code",
   "execution_count": 8,
   "metadata": {
    "collapsed": true
   },
   "outputs": [
    {
     "name": "stdout",
     "output_type": "stream",
     "text": [
      "+--------+------+--------------------+------+---+--------------------+--------------------+-------+\n",
      "|     _c0|   _c1|                 _c2|   _c3|_c4|                 _c5|                 _c6|    _c7|\n",
      "+--------+------+--------------------+------+---+--------------------+--------------------+-------+\n",
      "|Survived|Pclass|                Name|   Sex|Age|Siblings/Spouses ...|Parents/Children ...|   Fare|\n",
      "|       0|     3|Mr. Owen Harris B...|  male| 22|                   1|                   0|   7.25|\n",
      "|       1|     1|Mrs. John Bradley...|female| 38|                   1|                   0|71.2833|\n",
      "|       1|     3|Miss. Laina Heikk...|female| 26|                   0|                   0|  7.925|\n",
      "|       1|     1|Mrs. Jacques Heat...|female| 35|                   1|                   0|   53.1|\n",
      "|       0|     3|Mr. William Henry...|  male| 35|                   0|                   0|   8.05|\n",
      "|       0|     3|     Mr. James Moran|  male| 27|                   0|                   0| 8.4583|\n",
      "|       0|     1|Mr. Timothy J McC...|  male| 54|                   0|                   0|51.8625|\n",
      "|       0|     3|Master. Gosta Leo...|  male|  2|                   3|                   1| 21.075|\n",
      "|       1|     3|Mrs. Oscar W (Eli...|female| 27|                   0|                   2|11.1333|\n",
      "|       1|     2|Mrs. Nicholas (Ad...|female| 14|                   1|                   0|30.0708|\n",
      "|       1|     3|Miss. Marguerite ...|female|  4|                   1|                   1|   16.7|\n",
      "|       1|     1|Miss. Elizabeth B...|female| 58|                   0|                   0|  26.55|\n",
      "|       0|     3|Mr. William Henry...|  male| 20|                   0|                   0|   8.05|\n",
      "|       0|     3|Mr. Anders Johan ...|  male| 39|                   1|                   5| 31.275|\n",
      "|       0|     3|Miss. Hulda Amand...|female| 14|                   0|                   0| 7.8542|\n",
      "|       1|     2|Mrs. (Mary D King...|female| 55|                   0|                   0|     16|\n",
      "|       0|     3| Master. Eugene Rice|  male|  2|                   4|                   1| 29.125|\n",
      "|       1|     2|Mr. Charles Eugen...|  male| 23|                   0|                   0|     13|\n",
      "|       0|     3|Mrs. Julius (Emel...|female| 31|                   1|                   0|     18|\n",
      "+--------+------+--------------------+------+---+--------------------+--------------------+-------+\n",
      "only showing top 20 rows\n",
      "\n"
     ]
    }
   ],
   "source": [
    "spark_df.show()"
   ]
  },
  {
   "cell_type": "code",
   "execution_count": 9,
   "metadata": {
    "collapsed": true
   },
   "outputs": [],
   "source": [
    "spark_df_header=spark.read.csv(data_path,header=True)"
   ]
  },
  {
   "cell_type": "code",
   "execution_count": 10,
   "metadata": {
    "collapsed": true
   },
   "outputs": [
    {
     "name": "stdout",
     "output_type": "stream",
     "text": [
      "+--------+------+--------------------+------+---+-----------------------+-----------------------+-------+\n",
      "|Survived|Pclass|                Name|   Sex|Age|Siblings/Spouses Aboard|Parents/Children Aboard|   Fare|\n",
      "+--------+------+--------------------+------+---+-----------------------+-----------------------+-------+\n",
      "|       0|     3|Mr. Owen Harris B...|  male| 22|                      1|                      0|   7.25|\n",
      "|       1|     1|Mrs. John Bradley...|female| 38|                      1|                      0|71.2833|\n",
      "|       1|     3|Miss. Laina Heikk...|female| 26|                      0|                      0|  7.925|\n",
      "|       1|     1|Mrs. Jacques Heat...|female| 35|                      1|                      0|   53.1|\n",
      "|       0|     3|Mr. William Henry...|  male| 35|                      0|                      0|   8.05|\n",
      "|       0|     3|     Mr. James Moran|  male| 27|                      0|                      0| 8.4583|\n",
      "|       0|     1|Mr. Timothy J McC...|  male| 54|                      0|                      0|51.8625|\n",
      "|       0|     3|Master. Gosta Leo...|  male|  2|                      3|                      1| 21.075|\n",
      "|       1|     3|Mrs. Oscar W (Eli...|female| 27|                      0|                      2|11.1333|\n",
      "|       1|     2|Mrs. Nicholas (Ad...|female| 14|                      1|                      0|30.0708|\n",
      "|       1|     3|Miss. Marguerite ...|female|  4|                      1|                      1|   16.7|\n",
      "|       1|     1|Miss. Elizabeth B...|female| 58|                      0|                      0|  26.55|\n",
      "|       0|     3|Mr. William Henry...|  male| 20|                      0|                      0|   8.05|\n",
      "|       0|     3|Mr. Anders Johan ...|  male| 39|                      1|                      5| 31.275|\n",
      "|       0|     3|Miss. Hulda Amand...|female| 14|                      0|                      0| 7.8542|\n",
      "|       1|     2|Mrs. (Mary D King...|female| 55|                      0|                      0|     16|\n",
      "|       0|     3| Master. Eugene Rice|  male|  2|                      4|                      1| 29.125|\n",
      "|       1|     2|Mr. Charles Eugen...|  male| 23|                      0|                      0|     13|\n",
      "|       0|     3|Mrs. Julius (Emel...|female| 31|                      1|                      0|     18|\n",
      "|       1|     3|Mrs. Fatima Masse...|female| 22|                      0|                      0|  7.225|\n",
      "+--------+------+--------------------+------+---+-----------------------+-----------------------+-------+\n",
      "only showing top 20 rows\n",
      "\n"
     ]
    }
   ],
   "source": [
    "spark_df_header.show()"
   ]
  },
  {
   "cell_type": "code",
   "execution_count": 20,
   "metadata": {},
   "outputs": [],
   "source": [
    "#cleaning spark df wit list comprehension\n",
    "import re\n",
    "headers_filtered=[re.sub(\"[\\s+/]\",\"_\",col) for col in spark_df_header.columns]"
   ]
  },
  {
   "cell_type": "code",
   "execution_count": 21,
   "metadata": {},
   "outputs": [
    {
     "data": {
      "text/plain": [
       "['Survived',\n",
       " 'Pclass',\n",
       " 'Name',\n",
       " 'Sex',\n",
       " 'Age',\n",
       " 'Siblings_Spouses_Aboard',\n",
       " 'Parents_Children_Aboard',\n",
       " 'Fare']"
      ]
     },
     "execution_count": 21,
     "metadata": {},
     "output_type": "execute_result"
    }
   ],
   "source": [
    "headers_filtered"
   ]
  },
  {
   "cell_type": "code",
   "execution_count": 25,
   "metadata": {},
   "outputs": [],
   "source": [
    "spark_df_header=spark.read.csv(data_path).toDF(*headers_filtered)"
   ]
  },
  {
   "cell_type": "code",
   "execution_count": 27,
   "metadata": {
    "scrolled": true
   },
   "outputs": [
    {
     "name": "stdout",
     "output_type": "stream",
     "text": [
      "+--------+------+--------------------+------+---+-----------------------+-----------------------+-------+\n",
      "|Survived|Pclass|                Name|   Sex|Age|Siblings_Spouses_Aboard|Parents_Children_Aboard|   Fare|\n",
      "+--------+------+--------------------+------+---+-----------------------+-----------------------+-------+\n",
      "|Survived|Pclass|                Name|   Sex|Age|   Siblings/Spouses ...|   Parents/Children ...|   Fare|\n",
      "|       0|     3|Mr. Owen Harris B...|  male| 22|                      1|                      0|   7.25|\n",
      "|       1|     1|Mrs. John Bradley...|female| 38|                      1|                      0|71.2833|\n",
      "|       1|     3|Miss. Laina Heikk...|female| 26|                      0|                      0|  7.925|\n",
      "|       1|     1|Mrs. Jacques Heat...|female| 35|                      1|                      0|   53.1|\n",
      "|       0|     3|Mr. William Henry...|  male| 35|                      0|                      0|   8.05|\n",
      "|       0|     3|     Mr. James Moran|  male| 27|                      0|                      0| 8.4583|\n",
      "|       0|     1|Mr. Timothy J McC...|  male| 54|                      0|                      0|51.8625|\n",
      "|       0|     3|Master. Gosta Leo...|  male|  2|                      3|                      1| 21.075|\n",
      "|       1|     3|Mrs. Oscar W (Eli...|female| 27|                      0|                      2|11.1333|\n",
      "|       1|     2|Mrs. Nicholas (Ad...|female| 14|                      1|                      0|30.0708|\n",
      "|       1|     3|Miss. Marguerite ...|female|  4|                      1|                      1|   16.7|\n",
      "|       1|     1|Miss. Elizabeth B...|female| 58|                      0|                      0|  26.55|\n",
      "|       0|     3|Mr. William Henry...|  male| 20|                      0|                      0|   8.05|\n",
      "|       0|     3|Mr. Anders Johan ...|  male| 39|                      1|                      5| 31.275|\n",
      "|       0|     3|Miss. Hulda Amand...|female| 14|                      0|                      0| 7.8542|\n",
      "|       1|     2|Mrs. (Mary D King...|female| 55|                      0|                      0|     16|\n",
      "|       0|     3| Master. Eugene Rice|  male|  2|                      4|                      1| 29.125|\n",
      "|       1|     2|Mr. Charles Eugen...|  male| 23|                      0|                      0|     13|\n",
      "|       0|     3|Mrs. Julius (Emel...|female| 31|                      1|                      0|     18|\n",
      "+--------+------+--------------------+------+---+-----------------------+-----------------------+-------+\n",
      "only showing top 20 rows\n",
      "\n"
     ]
    }
   ],
   "source": [
    "spark_df_header.show()"
   ]
  },
  {
   "cell_type": "code",
   "execution_count": 31,
   "metadata": {},
   "outputs": [],
   "source": [
    "spark_df_header=spark.read.csv(data_path).toDF(*headers_filtered).filter(\"Survived <> 'Survived'\")"
   ]
  },
  {
   "cell_type": "code",
   "execution_count": 34,
   "metadata": {
    "collapsed": true
   },
   "outputs": [
    {
     "name": "stdout",
     "output_type": "stream",
     "text": [
      "+--------+------+--------------------+------+---+-----------------------+-----------------------+-------+\n",
      "|Survived|Pclass|                Name|   Sex|Age|Siblings_Spouses_Aboard|Parents_Children_Aboard|   Fare|\n",
      "+--------+------+--------------------+------+---+-----------------------+-----------------------+-------+\n",
      "|       0|     3|Mr. Owen Harris B...|  male| 22|                      1|                      0|   7.25|\n",
      "|       1|     1|Mrs. John Bradley...|female| 38|                      1|                      0|71.2833|\n",
      "|       1|     3|Miss. Laina Heikk...|female| 26|                      0|                      0|  7.925|\n",
      "|       1|     1|Mrs. Jacques Heat...|female| 35|                      1|                      0|   53.1|\n",
      "|       0|     3|Mr. William Henry...|  male| 35|                      0|                      0|   8.05|\n",
      "|       0|     3|     Mr. James Moran|  male| 27|                      0|                      0| 8.4583|\n",
      "|       0|     1|Mr. Timothy J McC...|  male| 54|                      0|                      0|51.8625|\n",
      "|       0|     3|Master. Gosta Leo...|  male|  2|                      3|                      1| 21.075|\n",
      "|       1|     3|Mrs. Oscar W (Eli...|female| 27|                      0|                      2|11.1333|\n",
      "|       1|     2|Mrs. Nicholas (Ad...|female| 14|                      1|                      0|30.0708|\n",
      "|       1|     3|Miss. Marguerite ...|female|  4|                      1|                      1|   16.7|\n",
      "|       1|     1|Miss. Elizabeth B...|female| 58|                      0|                      0|  26.55|\n",
      "|       0|     3|Mr. William Henry...|  male| 20|                      0|                      0|   8.05|\n",
      "|       0|     3|Mr. Anders Johan ...|  male| 39|                      1|                      5| 31.275|\n",
      "|       0|     3|Miss. Hulda Amand...|female| 14|                      0|                      0| 7.8542|\n",
      "|       1|     2|Mrs. (Mary D King...|female| 55|                      0|                      0|     16|\n",
      "|       0|     3| Master. Eugene Rice|  male|  2|                      4|                      1| 29.125|\n",
      "|       1|     2|Mr. Charles Eugen...|  male| 23|                      0|                      0|     13|\n",
      "|       0|     3|Mrs. Julius (Emel...|female| 31|                      1|                      0|     18|\n",
      "|       1|     3|Mrs. Fatima Masse...|female| 22|                      0|                      0|  7.225|\n",
      "+--------+------+--------------------+------+---+-----------------------+-----------------------+-------+\n",
      "only showing top 20 rows\n",
      "\n"
     ]
    }
   ],
   "source": [
    "spark_df_header.show()"
   ]
  },
  {
   "cell_type": "code",
   "execution_count": 35,
   "metadata": {},
   "outputs": [
    {
     "data": {
      "text/plain": [
       "[('Survived', 'string'),\n",
       " ('Pclass', 'string'),\n",
       " ('Name', 'string'),\n",
       " ('Sex', 'string'),\n",
       " ('Age', 'string'),\n",
       " ('Siblings_Spouses_Aboard', 'string'),\n",
       " ('Parents_Children_Aboard', 'string'),\n",
       " ('Fare', 'string')]"
      ]
     },
     "execution_count": 35,
     "metadata": {},
     "output_type": "execute_result"
    }
   ],
   "source": [
    "spark_df_header.dtypes"
   ]
  },
  {
   "cell_type": "code",
   "execution_count": 36,
   "metadata": {
    "collapsed": true
   },
   "outputs": [],
   "source": [
    "spark_df_header=spark.read.csv(data_path,inferSchema=True).toDF(*headers_filtered).filter(\"Survived <> 'Survived'\")"
   ]
  },
  {
   "cell_type": "code",
   "execution_count": 37,
   "metadata": {
    "collapsed": true
   },
   "outputs": [
    {
     "data": {
      "text/plain": [
       "[('Survived', 'string'),\n",
       " ('Pclass', 'string'),\n",
       " ('Name', 'string'),\n",
       " ('Sex', 'string'),\n",
       " ('Age', 'string'),\n",
       " ('Siblings_Spouses_Aboard', 'string'),\n",
       " ('Parents_Children_Aboard', 'string'),\n",
       " ('Fare', 'string')]"
      ]
     },
     "execution_count": 37,
     "metadata": {},
     "output_type": "execute_result"
    }
   ],
   "source": [
    "spark_df_header.dtypes"
   ]
  },
  {
   "cell_type": "code",
   "execution_count": 38,
   "metadata": {
    "collapsed": true
   },
   "outputs": [],
   "source": [
    "from pyspark.sql.types import *"
   ]
  },
  {
   "cell_type": "code",
   "execution_count": 98,
   "metadata": {
    "collapsed": true
   },
   "outputs": [],
   "source": [
    "#defining empty schema\n",
    "schema=StructType()"
   ]
  },
  {
   "cell_type": "code",
   "execution_count": 99,
   "metadata": {},
   "outputs": [
    {
     "data": {
      "text/plain": [
       "StructType(List(StructField(Survived,IntegerType,true),StructField(Pclass,IntegerType,true),StructField(Name,StringType,true),StructField(Sex,StringType,true),StructField(Age,IntegerType,true),StructField(Siblings_Spouses_Aboard,IntegerType,true),StructField(Parents_Children_Aboard,IntegerType,true),StructField(Fare,DoubleType,true)))"
      ]
     },
     "execution_count": 99,
     "metadata": {},
     "output_type": "execute_result"
    }
   ],
   "source": [
    "schema.add('Survived', 'integer').\\\n",
    "add('Pclass', 'integer').\\\n",
    "add('Name', 'string').\\\n",
    "add('Sex', 'string').\\\n",
    "add('Age', 'integer').\\\n",
    "add('Siblings_Spouses_Aboard', 'integer').\\\n",
    "add('Parents_Children_Aboard', 'integer').\\\n",
    "add('Fare', 'double')"
   ]
  },
  {
   "cell_type": "code",
   "execution_count": 64,
   "metadata": {},
   "outputs": [],
   "source": [
    "spark_df_with_schema=spark.read.csv(data_path,schema=schema)"
   ]
  },
  {
   "cell_type": "code",
   "execution_count": 67,
   "metadata": {
    "scrolled": true
   },
   "outputs": [
    {
     "name": "stdout",
     "output_type": "stream",
     "text": [
      "+--------+------+--------------------+----+----+-----------------------+-----------------------+----+\n",
      "|Survived|Pclass|                Name| Sex| Age|Siblings_Spouses_Aboard|Parents_Children_Aboard|Fare|\n",
      "+--------+------+--------------------+----+----+-----------------------+-----------------------+----+\n",
      "|    null|  null|                null|null|null|                   null|                   null|null|\n",
      "|       0|     3|Mr. Owen Harris B...|male|  22|                      1|                      0|7.25|\n",
      "+--------+------+--------------------+----+----+-----------------------+-----------------------+----+\n",
      "only showing top 2 rows\n",
      "\n"
     ]
    }
   ],
   "source": [
    "spark_df_with_schema.show(n=2)"
   ]
  },
  {
   "cell_type": "code",
   "execution_count": 66,
   "metadata": {},
   "outputs": [
    {
     "data": {
      "text/plain": [
       "[('Survived', 'int'),\n",
       " ('Pclass', 'int'),\n",
       " ('Name', 'string'),\n",
       " ('Sex', 'string'),\n",
       " ('Age', 'int'),\n",
       " ('Siblings_Spouses_Aboard', 'int'),\n",
       " ('Parents_Children_Aboard', 'int'),\n",
       " ('Fare', 'double')]"
      ]
     },
     "execution_count": 66,
     "metadata": {},
     "output_type": "execute_result"
    }
   ],
   "source": [
    "spark_df_with_schema.dtypes"
   ]
  },
  {
   "cell_type": "code",
   "execution_count": 81,
   "metadata": {
    "collapsed": true
   },
   "outputs": [],
   "source": [
    "spark_df_with_schema=spark.read.csv(data_path,schema=schema,mode=\"DROPMALFORMED\")"
   ]
  },
  {
   "cell_type": "code",
   "execution_count": 82,
   "metadata": {},
   "outputs": [
    {
     "name": "stdout",
     "output_type": "stream",
     "text": [
      "+--------+------+--------------------+------+---+-----------------------+-----------------------+-------+\n",
      "|Survived|Pclass|                Name|   Sex|Age|Siblings_Spouses_Aboard|Parents_Children_Aboard|   Fare|\n",
      "+--------+------+--------------------+------+---+-----------------------+-----------------------+-------+\n",
      "|       1|     1|Mrs. John Bradley...|female| 38|                      1|                      0|71.2833|\n",
      "|       1|     3|Miss. Laina Heikk...|female| 26|                      0|                      0|  7.925|\n",
      "+--------+------+--------------------+------+---+-----------------------+-----------------------+-------+\n",
      "only showing top 2 rows\n",
      "\n"
     ]
    }
   ],
   "source": [
    "spark_df_with_schema.show()"
   ]
  },
  {
   "cell_type": "code",
   "execution_count": 94,
   "metadata": {
    "collapsed": true
   },
   "outputs": [],
   "source": [
    "corrupted_schema=StructType()"
   ]
  },
  {
   "cell_type": "code",
   "execution_count": 100,
   "metadata": {},
   "outputs": [
    {
     "data": {
      "text/plain": [
       "StructType(List(StructField(Survived,IntegerType,true),StructField(Pclass,IntegerType,true),StructField(Name,StringType,true),StructField(Sex,StringType,true),StructField(Age,IntegerType,true),StructField(Siblings_Spouses_Aboard,IntegerType,true),StructField(Parents_Children_Aboard,IntegerType,true),StructField(Fare,DoubleType,true),StructField(corrupted_data,StringType,true)))"
      ]
     },
     "execution_count": 100,
     "metadata": {},
     "output_type": "execute_result"
    }
   ],
   "source": [
    "corrupted_schema.add('Survived', 'integer').\\\n",
    "add('Pclass', 'integer').\\\n",
    "add('Name', 'string').\\\n",
    "add('Sex', 'string').\\\n",
    "add('Age', 'integer').\\\n",
    "add('Siblings_Spouses_Aboard', 'integer').\\\n",
    "add('Parents_Children_Aboard', 'integer').\\\n",
    "add('Fare', 'double').add(\"corrupted_data\",\"string\") #corrupted colum"
   ]
  },
  {
   "cell_type": "code",
   "execution_count": 107,
   "metadata": {},
   "outputs": [],
   "source": [
    "spark_df_corrupted=spark.read.\\\n",
    "csv(data_path,schema=corrupted_schema,mode=\"PERMISSIVE\",columnNameOfCorruptRecord=\"corrupted_data\")"
   ]
  },
  {
   "cell_type": "code",
   "execution_count": 108,
   "metadata": {},
   "outputs": [
    {
     "name": "stdout",
     "output_type": "stream",
     "text": [
      "+--------+------+----+----+----+-----------------------+-----------------------+----+---------------------------------------------------------------------------------+\n",
      "|Survived|Pclass|Name|Sex |Age |Siblings_Spouses_Aboard|Parents_Children_Aboard|Fare|corrupted_data                                                                   |\n",
      "+--------+------+----+----+----+-----------------------+-----------------------+----+---------------------------------------------------------------------------------+\n",
      "|null    |null  |null|null|null|null                   |null                   |null|Survived,Pclass,Name,Sex,Age,Siblings/Spouses Aboard,Parents/Children Aboard,Fare|\n",
      "+--------+------+----+----+----+-----------------------+-----------------------+----+---------------------------------------------------------------------------------+\n",
      "only showing top 1 row\n",
      "\n"
     ]
    }
   ],
   "source": [
    "spark_df_corrupted.show(n=1,truncate=False)"
   ]
  },
  {
   "cell_type": "code",
   "execution_count": null,
   "metadata": {
    "collapsed": true
   },
   "outputs": [],
   "source": []
  }
 ],
 "metadata": {
  "kernelspec": {
   "display_name": "Python 3",
   "language": "python",
   "name": "python3"
  },
  "language_info": {
   "codemirror_mode": {
    "name": "ipython",
    "version": 2
   },
   "file_extension": ".py",
   "mimetype": "text/x-python",
   "name": "python",
   "nbconvert_exporter": "python",
   "pygments_lexer": "ipython2",
   "version": "2.7.16"
  }
 },
 "nbformat": 4,
 "nbformat_minor": 2
}
